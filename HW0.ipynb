{
 "cells": [
  {
   "cell_type": "markdown",
   "metadata": {},
   "source": [
    "Compute integrals of the form\n",
    "\n",
    "$$\n",
    "I_n = \\int_0^1 x^n e^{1-x}\\, dx\\;.\n",
    "$$\n",
    "\n",
    "Integrating by parts, we obtain a recurrence relation\n",
    "\n",
    "$$\n",
    "I_n = n I_{n-1} - 1 \\;,\n",
    "$$\n",
    "\n",
    "with the initial condition\n",
    "\n",
    "$$\n",
    "I_0 = e - 1\\;.\n",
    "$$"
   ]
  },
  {
   "cell_type": "markdown",
   "metadata": {},
   "source": [
    "These integrals can be computed using symbolic maths with `sympy`:"
   ]
  },
  {
   "cell_type": "code",
   "execution_count": 39,
   "metadata": {},
   "outputs": [],
   "source": [
    "import sympy\n",
    "x = sympy.Symbol('x')\n",
    "N = 25\n",
    "exact = [float(sympy.integrate(x**n * sympy.exp(1 - x), (x, 0, 1))) for n in range(N)]"
   ]
  },
  {
   "cell_type": "markdown",
   "metadata": {},
   "source": [
    "Use the recurrence relation to compute these integrals  from $n=0$ up to $n = 24$ inclusive. \n",
    "\n",
    "\n",
    "First, use the upwards recursion, from $n=1$ upwards. Your code below must product a list of the 25 values of the integrals."
   ]
  },
  {
   "cell_type": "code",
   "execution_count": 80,
   "metadata": {},
   "outputs": [
    {
     "data": {
      "text/plain": [
       "[1.718281828459045,\n",
       " 0.7182818284590451,\n",
       " 0.4365636569180902,\n",
       " 0.30969097075427054,\n",
       " 0.23876388301708218,\n",
       " 0.1938194150854109,\n",
       " 0.16291649051246537,\n",
       " 0.1404154335872576,\n",
       " 0.12332346869806088,\n",
       " 0.1099112182825479,\n",
       " 0.09911218282547907,\n",
       " 0.09023401108026974,\n",
       " 0.08280813296323686,\n",
       " 0.07650572852207915,\n",
       " 0.07108019930910814,\n",
       " 0.06620298963662208,\n",
       " 0.05924783418595325,\n",
       " 0.007213181161205284,\n",
       " -0.8701627390983049,\n",
       " -17.533092042867793,\n",
       " -351.66184085735586,\n",
       " -7385.898658004473,\n",
       " -162490.7704760984,\n",
       " -3737288.7209502636,\n",
       " -89694930.30280632]"
      ]
     },
     "execution_count": 80,
     "metadata": {},
     "output_type": "execute_result"
    }
   ],
   "source": [
    "import numpy as np\n",
    "def upwards_recursion(n):\n",
    "    I = np.zeros(n)\n",
    "    I[0] = np.exp(1)-1\n",
    "    for i in range(1,n):\n",
    "        I[i] = i*I[i-1]-1\n",
    "    return(I)\n",
    "               \n",
    "values=upwards_recursion(N) \n",
    "upwards_recursion(N).tolist()  "
   ]
  },
  {
   "cell_type": "markdown",
   "metadata": {},
   "source": [
    "Compare your results with the exact values. Discuss"
   ]
  },
  {
   "cell_type": "code",
   "execution_count": null,
   "metadata": {
    "collapsed": true
   },
   "outputs": [],
   "source": [
    "values = upwards_recursion(25)\n",
    "for value, exact_value in zip(values, exact):\n",
    "    print(value, exact)\n",
    "\n",
    "from numpy.testing import assert_allclose\n",
    "assert_allclose(values, exact)"
   ]
  },
  {
   "cell_type": "markdown",
   "metadata": {
    "collapsed": true
   },
   "source": [
    "Найдем разницу (ошибку) между истинным значением (полученным с помощью sympy) и рекурсией вверх"
   ]
  },
  {
   "cell_type": "code",
   "execution_count": 81,
   "metadata": {},
   "outputs": [
    {
     "data": {
      "text/plain": [
       "[-2.220446049250313e-16,\n",
       " -1.1102230246251565e-16,\n",
       " -2.7755575615628914e-16,\n",
       " -8.881784197001252e-16,\n",
       " -3.469446951953614e-15,\n",
       " -1.734723475976807e-14,\n",
       " -1.0408340855860843e-13,\n",
       " -7.286116154858746e-13,\n",
       " -5.8288512905235734e-12,\n",
       " -5.2459633859136545e-11,\n",
       " -5.245963385913655e-10,\n",
       " -5.770559780016171e-09,\n",
       " -6.92467174157052e-08,\n",
       " -9.002073264319232e-07,\n",
       " -1.2602902569949781e-05,\n",
       " -0.0001890435385493161,\n",
       " -0.003024696616789141,\n",
       " -0.051419842485415354,\n",
       " -0.9255571647374764,\n",
       " -17.58558613001205,\n",
       " -351.71172260024105,\n",
       " -7385.946174605062,\n",
       " -162490.81584131136,\n",
       " -3737288.7643501614,\n",
       " -89694930.34440386]"
      ]
     },
     "execution_count": 81,
     "metadata": {},
     "output_type": "execute_result"
    }
   ],
   "source": [
    "error=values-exact\n",
    "error.tolist()"
   ]
  },
  {
   "cell_type": "markdown",
   "metadata": {},
   "source": [
    "Видно, что рекурсия вверх дает ошибочный результат ошибка которого быстро растет с ростом N, данный метод стоит применять при небольших N (при N=18 ошибка уже в 1 знаке после запятой)"
   ]
  },
  {
   "cell_type": "markdown",
   "metadata": {},
   "source": [
    "Next, use the downwards recursion. Your code below must produce a list of the 25 values of the integrals, from 0 to 24."
   ]
  },
  {
   "cell_type": "code",
   "execution_count": 82,
   "metadata": {},
   "outputs": [
    {
     "data": {
      "text/plain": [
       "[1.718281828459045,\n",
       " 0.7182818284590452,\n",
       " 0.43656365691809046,\n",
       " 0.30969097075427143,\n",
       " 0.23876388301708565,\n",
       " 0.19381941508542824,\n",
       " 0.16291649051256946,\n",
       " 0.14041543358798622,\n",
       " 0.12332346870388972,\n",
       " 0.10991121833500754,\n",
       " 0.09911218335007542,\n",
       " 0.09023401685082953,\n",
       " 0.08280820220995427,\n",
       " 0.07650662872940558,\n",
       " 0.0710928022116781,\n",
       " 0.0663920331751714,\n",
       " 0.062272530802742386,\n",
       " 0.05863302364662063,\n",
       " 0.05539442563917151,\n",
       " 0.052494087144258815,\n",
       " 0.049881742885176245,\n",
       " 0.04751660058870117,\n",
       " 0.0453652129514256,\n",
       " 0.04339989788278872,\n",
       " 0.04159754918692921]"
      ]
     },
     "execution_count": 82,
     "metadata": {},
     "output_type": "execute_result"
    }
   ],
   "source": [
    "def downwards_recursion(n):\n",
    "    I=np.zeros(100) #положим нулевым 1000-й член \n",
    "    for i in reversed(range(1,len(I))):\n",
    "        I[i-1]=(I[i]+1)/i\n",
    "    return (I[0:N])\n",
    "\n",
    "values=downwards_recursion(N) \n",
    "downwards_recursion(N).tolist()  "
   ]
  },
  {
   "cell_type": "markdown",
   "metadata": {
    "collapsed": true
   },
   "source": [
    "Repeat the comparison with the exact values. Discuss."
   ]
  },
  {
   "cell_type": "markdown",
   "metadata": {},
   "source": [
    "Найдем разницу (ошибку) между истинным значением (полученным с помощью sympy) и рекурсией вниз"
   ]
  },
  {
   "cell_type": "code",
   "execution_count": 83,
   "metadata": {
    "scrolled": false
   },
   "outputs": [
    {
     "data": {
      "text/plain": [
       "[-2.220446049250313e-16,\n",
       " 0.0,\n",
       " 0.0,\n",
       " 0.0,\n",
       " 0.0,\n",
       " 0.0,\n",
       " 0.0,\n",
       " 0.0,\n",
       " -1.3877787807814457e-17,\n",
       " 0.0,\n",
       " 1.3877787807814457e-17,\n",
       " 1.3877787807814457e-17,\n",
       " 0.0,\n",
       " 0.0,\n",
       " 1.3877787807814457e-17,\n",
       " 0.0,\n",
       " -6.938893903907228e-18,\n",
       " -6.938893903907228e-18,\n",
       " -6.938893903907228e-18,\n",
       " 0.0,\n",
       " 0.0,\n",
       " 6.938893903907228e-18,\n",
       " 6.938893903907228e-18,\n",
       " 0.0,\n",
       " 6.938893903907228e-18]"
      ]
     },
     "execution_count": 83,
     "metadata": {},
     "output_type": "execute_result"
    }
   ],
   "source": [
    "error=values-exact\n",
    "error.tolist()"
   ]
  },
  {
   "cell_type": "markdown",
   "metadata": {},
   "source": [
    "Видно, что рекурсия вниз дает более точный результат "
   ]
  }
 ],
 "metadata": {
  "kernelspec": {
   "display_name": "Python 3",
   "language": "python",
   "name": "python3"
  },
  "language_info": {
   "codemirror_mode": {
    "name": "ipython",
    "version": 3
   },
   "file_extension": ".py",
   "mimetype": "text/x-python",
   "name": "python",
   "nbconvert_exporter": "python",
   "pygments_lexer": "ipython3",
   "version": "3.7.1"
  }
 },
 "nbformat": 4,
 "nbformat_minor": 2
}
