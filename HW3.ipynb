{
 "cells": [
  {
   "cell_type": "markdown",
   "metadata": {},
   "source": [
    "# Part I. Root-finding. Newton's iteration."
   ]
  },
  {
   "cell_type": "markdown",
   "metadata": {},
   "source": [
    "Write a function which performs Newton's iteration for a given function $f(x)$ with known derivative $f'(x)$. Your function should find the root of $f(x)$ with a predefined absolute accuracy $\\epsilon$. "
   ]
  },
  {
   "cell_type": "code",
   "execution_count": 322,
   "metadata": {},
   "outputs": [],
   "source": [
    "import numpy as np\n",
    "import matplotlib.pyplot as plt\n",
    "import math"
   ]
  },
  {
   "cell_type": "code",
   "execution_count": 323,
   "metadata": {},
   "outputs": [],
   "source": [
    "def newton_iteration(f, fder, x0, eps=1e-5, maxiter=1000):\n",
    "    \"\"\"Find a root of $f(x) = 0$ via Newton's iteration starting from x0.\n",
    "    \n",
    "    Parameters\n",
    "    ----------\n",
    "    f : callable\n",
    "        The function to find a root of.\n",
    "    fder : callable\n",
    "        The derivative of `f`.\n",
    "    x0 : float\n",
    "        Initial value for the Newton's iteration.\n",
    "    eps : float\n",
    "        The target accuracy. \n",
    "        The iteration stops when the distance between successive iterates is below `eps`.\n",
    "        Default is 1e-5.\n",
    "    maxiter : int\n",
    "        The maximum number of iterations (default is 1000.)\n",
    "        Iterations terminate if the number of iterations exceeds `maxiter`.\n",
    "        This parameter is only needed to avoid infinite loops if iterations wander off.\n",
    "        \n",
    "    Returns\n",
    "    -------\n",
    "    x : float\n",
    "        The estimate for the root.\n",
    "    niter : int\n",
    "        The number of iterations.\n",
    "    \"\"\"\n",
    "    if f(x0) == 0:\n",
    "        return x0, 0\n",
    "    xp = x0\n",
    "    xn = xp - f(xp) / fder(xp)\n",
    "    i = 1\n",
    "    while abs(xp - xn) > eps and i <= maxiter:\n",
    "        xp = xn\n",
    "        xn = xp - f(xp) / fder(xp)\n",
    "        i+=1\n",
    "    return xn, i "
   ]
  },
  {
   "cell_type": "markdown",
   "metadata": {},
   "source": [
    "### Test I.1 \n",
    "\n",
    "Test your implementation on a simple example, $f(x) = x^2 - 1$ or similar. (20% of the total grade)"
   ]
  },
  {
   "cell_type": "code",
   "execution_count": 324,
   "metadata": {},
   "outputs": [
    {
     "name": "stdout",
     "output_type": "stream",
     "text": [
      "x0 (левый) = -10\n",
      "x1= -1.00000, iter:  7\n",
      "x0 (правый) = 10\n",
      "x2= 1.00000, iter:  7\n",
      "__________________________________________________________________\n",
      "x0 (левый) = -30\n",
      "x1= -1.00000, iter:  9\n",
      "x0 (правый) = 30\n",
      "x2= 1.00000, iter:  9\n",
      "__________________________________________________________________\n",
      "x0 (левый) = -50\n",
      "x1= -1.00000, iter:  10\n",
      "x0 (правый) = 50\n",
      "x2= 1.00000, iter:  10\n",
      "__________________________________________________________________\n",
      "x0 (левый) = -70\n",
      "x1= -1.00000, iter:  10\n",
      "x0 (правый) = 70\n",
      "x2= 1.00000, iter:  10\n",
      "__________________________________________________________________\n",
      "x0 (левый) = -90\n",
      "x1= -1.00000, iter:  11\n",
      "x0 (правый) = 90\n",
      "x2= 1.00000, iter:  11\n",
      "__________________________________________________________________\n"
     ]
    }
   ],
   "source": [
    "def f(x):\n",
    "    return x**2-1\n",
    "def fder(x):\n",
    "    return 2*x\n",
    "\n",
    "for i in range(10,100,20): #различные значения начального приближения\n",
    "    print('x0 (левый) =',-i) #слева начальное приближение\n",
    "    x1, n1 = newton_iteration(f, fder, -i)\n",
    "    print('x1= %.5f,'% (x1),'iter: ',n1)\n",
    "    print('x0 (правый) =',i) #справа начальное приближение\n",
    "    x2, n2 = newton_iteration(f, fder, i)\n",
    "    print('x2= %.5f,'% (x2),'iter: ',n2)\n",
    "    print('__________________________________________________________________')"
   ]
  },
  {
   "cell_type": "markdown",
   "metadata": {},
   "source": [
    "### Test I.2\n",
    "\n",
    "Now consider a function which has a multiple root. Take $f(x) = (x^2 - 1)^2$ as an example. Implement a modified Newton's iteraion,\n",
    "\n",
    "$$\n",
    "x_{n+1} = x_{n} - m \\frac{f(x_n)}{f'(x_n)}\n",
    "$$\n",
    "\n",
    "and vary $m= 1, 2, 3, 4, 5$. Check the number of iterations required for convergence within a fixed $\\epsilon$. Are your observations consistent with the expectation that the convergence is quadratic is $m$ equals the multiplicity of the root, and is linear otherwise? (40% of the total grade)"
   ]
  },
  {
   "cell_type": "code",
   "execution_count": 325,
   "metadata": {},
   "outputs": [],
   "source": [
    "def mod_newton_iteration(f, fder, m, x0, eps=1e-5, maxiter=1000):\n",
    "    \"\"\"Find a root of $f(x) = 0$ via Newton's iteration starting from x0.\n",
    "    \n",
    "    Parameters\n",
    "    ----------\n",
    "    f : callable\n",
    "        The function to find a root of.\n",
    "    fder : callable\n",
    "        The derivative of `f`.\n",
    "    x0 : float\n",
    "        Initial value for the Newton's iteration.\n",
    "    m : integer\n",
    "        Integer constant for modification of Newton's iteration.\n",
    "    eps : float\n",
    "        The target accuracy. \n",
    "        The iteration stops when the distance between successive iterates is below `eps`.\n",
    "        Default is 1e-5.\n",
    "    maxiter : int\n",
    "        The maximum number of iterations (default is 1000.)\n",
    "        Iterations terminate if the number of iterations exceeds `maxiter`.\n",
    "        This parameter is only needed to avoid infinite loops if iterations wander off.\n",
    "        \n",
    "    Returns\n",
    "    -------\n",
    "    x : float\n",
    "        The estimate for the root.\n",
    "    niter : int\n",
    "        The number of iterations.\n",
    "    \"\"\"\n",
    "    if f(x0) == 0:\n",
    "        return x0, 0\n",
    "    xp = x0\n",
    "    xn = xp - m * f(xp) / fder(xp)\n",
    "    i = 1\n",
    "    while abs(xp - xn) > eps and i <= maxiter:\n",
    "        xp = xn\n",
    "        xn = xp - m * f(xp) / fder(xp)\n",
    "        i+=1\n",
    "    return xn, i "
   ]
  },
  {
   "cell_type": "code",
   "execution_count": 326,
   "metadata": {},
   "outputs": [
    {
     "name": "stdout",
     "output_type": "stream",
     "text": [
      "________________________________________________________________________________ \n",
      "x0 (левое и правое значение) = +-  10\n",
      "m = 1\n",
      "x1= -1.00001, iter:  24\n",
      "x2= 1.00001, iter:  24\n",
      " \n",
      "m = 2\n",
      "x1= -1.00000, iter:  7\n",
      "x2= 1.00000, iter:  7\n",
      " \n",
      "m = 3\n",
      "x1= -1.00000, iter:  17\n",
      "x2= 1.00000, iter:  17\n",
      " \n",
      "m = 4\n",
      "x1= -0.10000, iter:  1001\n",
      "x2= 0.10000, iter:  1001\n",
      " \n",
      "m = 5\n",
      "x1= -2.14898, iter:  1001\n",
      "x2= 2.14898, iter:  1001\n",
      " \n",
      "________________________________________________________________________________ \n",
      "x0 (левое и правое значение) = +-  20\n",
      "m = 1\n",
      "x1= -1.00001, iter:  27\n",
      "x2= 1.00001, iter:  27\n",
      " \n",
      "m = 2\n",
      "x1= -1.00000, iter:  8\n",
      "x2= 1.00000, iter:  8\n",
      " \n",
      "m = 3\n",
      "x1= -1.00000, iter:  19\n",
      "x2= 1.00000, iter:  19\n",
      " \n",
      "m = 4\n",
      "x1= -0.05000, iter:  1001\n",
      "x2= 0.05000, iter:  1001\n",
      " \n",
      "m = 5\n",
      "x1= -2.06657, iter:  1001\n",
      "x2= 2.06657, iter:  1001\n",
      " \n",
      "________________________________________________________________________________ \n",
      "x0 (левое и правое значение) = +-  30\n",
      "m = 1\n",
      "x1= -1.00001, iter:  28\n",
      "x2= 1.00001, iter:  28\n",
      " \n",
      "m = 2\n",
      "x1= -1.00000, iter:  9\n",
      "x2= 1.00000, iter:  9\n",
      " \n",
      "m = 3\n",
      "x1= -1.00000, iter:  19\n",
      "x2= 1.00000, iter:  19\n",
      " \n",
      "m = 4\n",
      "x1= -0.03333, iter:  1001\n",
      "x2= 0.03333, iter:  1001\n",
      " \n",
      "m = 5\n",
      "x1= -1.11717, iter:  1001\n",
      "x2= 1.11717, iter:  1001\n",
      " \n"
     ]
    }
   ],
   "source": [
    "def f1(x):\n",
    "    return (x**2-1)**2\n",
    "def fder1(x):\n",
    "    return 4*x*(x**2-1)\n",
    "\n",
    "for i in range(10,40,10): #разные значения начального приближения\n",
    "    print('________________________________________________________________________________ ')\n",
    "    print('x0 (левое и правое значение) = +- ',i) #начальное приближение\n",
    "    for j in range(1, 6):\n",
    "        print('m =', j)\n",
    "        x1, n1 = mod_newton_iteration(f1, fder1, j, -i)\n",
    "        print('x1= %.5f,'% (x1),'iter: ',n1)\n",
    "        x2, n2 = mod_newton_iteration(f1, fder1, j, i)\n",
    "        print('x2= %.5f,'% (x2),'iter: ',n2)\n",
    "        print(' ')"
   ]
  },
  {
   "cell_type": "markdown",
   "metadata": {},
   "source": [
    "Видно, что схождение осуществляется с квадратичной скоростью. При m=2 сходимость к корню осуществляется за наименьшее число итераций (7 такая же и в 1 методе для некратного корня), что соответсвует кратности корня нашего уравнения. Для m>=4 вообще корень не сходится."
   ]
  },
  {
   "cell_type": "markdown",
   "metadata": {},
   "source": [
    "# Part II. Fixed-point iteration"
   ]
  },
  {
   "cell_type": "markdown",
   "metadata": {},
   "source": [
    "Consider the following equation:\n",
    "\n",
    "$$\n",
    "\\sqrt{x} = \\cos{x}\n",
    "$$\n",
    "\n",
    "Plot the left-hand side and right-hand side of this equation, and localize the root graphically. Estimate the location of the root by visual inspection of the plot.\n",
    "\n",
    "Write a function which finds the solution using fixed-point iteration up to a predefined accuracy $\\epsilon$. Compare the result to an estimate from a visual inspection.\n",
    "\n",
    "Next, rewrite the fixed-point problem in the form\n",
    "\n",
    "$$\n",
    "x = x - \\alpha f(x)\n",
    "$$\n",
    "\n",
    "where $\\alpha$ is the free parameter. Check the dependence of the number of iterations required for a given $\\epsilon$ on $\\alpha$. Compare your results to an expectation that the optimal value of $\\alpha$ is given by \n",
    "\n",
    "$$\n",
    "\\alpha = \\frac{2}{m + M}\n",
    "$$\n",
    "\n",
    "where $0 < m < |f'(x)| < M$ over the localization interval. (40% of the total grade)"
   ]
  },
  {
   "cell_type": "code",
   "execution_count": 327,
   "metadata": {},
   "outputs": [
    {
     "data": {
      "text/plain": [
       "<matplotlib.legend.Legend at 0x11eed9f60>"
      ]
     },
     "execution_count": 327,
     "metadata": {},
     "output_type": "execute_result"
    },
    {
     "data": {
      "image/png": "[encoded data removed]",
      "text/plain": [
       "<Figure size 432x288 with 1 Axes>"
      ]
     },
     "metadata": {
      "needs_background": "light"
     },
     "output_type": "display_data"
    }
   ],
   "source": [
    "x = np.linspace(0, 1, 1000)\n",
    "plt.plot(x, np.sqrt(x), label='sqrt(x)')\n",
    "plt.plot(x, np.cos(x), label='cos(x)')\n",
    "plt.grid(True)\n",
    "plt.legend()"
   ]
  },
  {
   "cell_type": "markdown",
   "metadata": {},
   "source": [
    "Из графика видно, что корень лежит между 0.6 и 0.7, возьмем начальное приближение xo=0.6"
   ]
  },
  {
   "cell_type": "code",
   "execution_count": 328,
   "metadata": {},
   "outputs": [],
   "source": [
    "def fixed_point_iteration(f, x0, a, eps=1e-5, maxiter=1000):\n",
    "    if f(x0) == 0:\n",
    "        return x0, 0\n",
    "    xp = x0\n",
    "    xn = xp - a * f(xp)\n",
    "    i = 1\n",
    "    while abs(xp - xn) > eps and i <= maxiter:\n",
    "        xp = xn\n",
    "        xn = xp - a * f(xp)\n",
    "        i+=1\n",
    "    return xn, i "
   ]
  },
  {
   "cell_type": "code",
   "execution_count": 329,
   "metadata": {},
   "outputs": [
    {
     "name": "stdout",
     "output_type": "stream",
     "text": [
      "a оптимальное: 0.816,\n",
      "минимальное кол-во итераций:  3.0\n",
      "для a оптимальной: \n",
      "x = 0.64171, iter =  3\n"
     ]
    },
    {
     "data": {
      "image/png": "[encoded data removed]",
      "text/plain": [
       "<Figure size 432x288 with 1 Axes>"
      ]
     },
     "metadata": {
      "needs_background": "light"
     },
     "output_type": "display_data"
    }
   ],
   "source": [
    "a = np.linspace(0, 1.5, 1000)\n",
    "iterat = np.zeros(len(a))\n",
    "j=0\n",
    "def f(x):\n",
    "    return x**0.5-np.cos(x)\n",
    "for i in a:\n",
    "    iterat[j] = fixed_point_iteration(f,0.6, i)[1]\n",
    "    j = j+1\n",
    "    \n",
    "plt.plot(a[1:], iterat[1:])\n",
    "a1 = 2/(1/2/math.sqrt(0.6)+math.sin(0.6)+1/2/math.sqrt(0.7)+math.sin(0.7))  #a=2/(m+M)\n",
    "plt.plot(a1, fixed_point_iteration(f,-1, a1)[1], '*', label='Оптимальное a' )\n",
    "plt.xlabel('а')\n",
    "plt.ylabel('iterat')\n",
    "plt.title('Зависимость числа интераций от параметра а')\n",
    "plt.grid(True)\n",
    "plt.legend()\n",
    "print('a оптимальное: %.3f,' % (a1))\n",
    "print('минимальное кол-во итераций: ',min(iterat[1:]))\n",
    "x, n = fixed_point_iteration(f, 0.5, a1, eps=1e-5)\n",
    "print('для a оптимальной: ')\n",
    "print('x = %.5f,' % (x), 'iter = ', n)"
   ]
  },
  {
   "cell_type": "markdown",
   "metadata": {},
   "source": [
    "Видно, что оптимальная сходимость к корню происходит за 3 итерации для значения a=2/(m+M) и полученного перебороб"
   ]
  },
  {
   "cell_type": "markdown",
   "metadata": {},
   "source": [
    "# Part III. Newton's fractal.\n",
    "\n",
    "(Not graded). \n",
    "\n",
    "Consider the equation\n",
    "\n",
    "$$\n",
    "x^3 = 1\n",
    "$$\n",
    "\n",
    "It has three solutions in the complex plane, $x_k = \\exp(i\\, 2\\pi k/ 3)$, $k = 0, 1, 2$.\n",
    "\n",
    "The Newton's iterations converge to one of these solutions, depending on the starting point in the complex plane (to converge to a complex-valued solution, the iteration needs a complex-valued starting point).\n",
    "\n",
    "Plot the \\emph{basins of attraction} of these roots on the complex plane of $x$ (i.e., on the plane $\\mathrm{Re}x$ -- $\\mathrm{Im}x$). To this end, make a series of calculations, varying the initial conditions on a grid of points. \n",
    "Color the grid in three colors, according to the root, to which iterations converged."
   ]
  },
  {
   "cell_type": "code",
   "execution_count": 330,
   "metadata": {},
   "outputs": [],
   "source": [
    "import cmath\n",
    "\n",
    "def f(x):\n",
    "    return x**3 - 1\n",
    "def fder(x):\n",
    "    return 3 * x**2\n",
    "\n",
    "def fractal(x0):\n",
    "    x, n = newton_iteration(f, fder, x0, eps=1e-4, maxiter=10)\n",
    "    y = [0,0,0]\n",
    "    for k in (0,1,2):\n",
    "        y[k] = abs(x - cmath.exp(1j * 2 * k * np.pi / 3))\n",
    "    if min(y[0], y[1], y[2]) == y[0]:\n",
    "        return 0\n",
    "    if min(y[0], y[1], y[2]) == y[1]:\n",
    "        return 1\n",
    "    if min(y[0], y[1], y[2]) == y[2]:\n",
    "        return 2"
   ]
  },
  {
   "cell_type": "code",
   "execution_count": 331,
   "metadata": {},
   "outputs": [],
   "source": [
    "def pic(n, m): #размеры\n",
    "    plt.figure()\n",
    "    x = np.zeros((n, n))\n",
    "    for i in range(n):\n",
    "        for j in range(n):\n",
    "            if j != n // 2 or i != n // 2:\n",
    "                x[j, i] = fractal(-m + i * 2 * m / n + (-m + j * 2 * m / n)*1j)\n",
    "    plt.imshow(x, extent=[-m, m, -m, m])\n",
    "    plt.xlabel('Re(x)')\n",
    "    plt.ylabel('Im(x)')"
   ]
  },
  {
   "cell_type": "code",
   "execution_count": 332,
   "metadata": {},
   "outputs": [
    {
     "data": {
      "image/png": "[encoded data removed]",
      "text/plain": [
       "<Figure size 432x288 with 1 Axes>"
      ]
     },
     "metadata": {
      "needs_background": "light"
     },
     "output_type": "display_data"
    }
   ],
   "source": [
    "pic(10, 1)"
   ]
  },
  {
   "cell_type": "code",
   "execution_count": 333,
   "metadata": {},
   "outputs": [
    {
     "data": {
      "image/png": "[encoded data removed]",
      "text/plain": [
       "<Figure size 432x288 with 1 Axes>"
      ]
     },
     "metadata": {
      "needs_background": "light"
     },
     "output_type": "display_data"
    }
   ],
   "source": [
    "pic(100 , 1)"
   ]
  },
  {
   "cell_type": "code",
   "execution_count": 334,
   "metadata": {},
   "outputs": [
    {
     "data": {
      "image/png": "[encoded data removed]",
      "text/plain": [
       "<Figure size 432x288 with 1 Axes>"
      ]
     },
     "metadata": {
      "needs_background": "light"
     },
     "output_type": "display_data"
    }
   ],
   "source": [
    "pic(1000, 1)"
   ]
  },
  {
   "cell_type": "code",
   "execution_count": 335,
   "metadata": {},
   "outputs": [
    {
     "data": {
      "image/png": "[encoded data removed]",
      "text/plain": [
       "<Figure size 432x288 with 1 Axes>"
      ]
     },
     "metadata": {
      "needs_background": "light"
     },
     "output_type": "display_data"
    }
   ],
   "source": [
    "pic(1000, 10)"
   ]
  },
  {
   "cell_type": "code",
   "execution_count": 336,
   "metadata": {},
   "outputs": [
    {
     "data": {
      "image/png": "[encoded data removed]",
      "text/plain": [
       "<Figure size 432x288 with 1 Axes>"
      ]
     },
     "metadata": {
      "needs_background": "light"
     },
     "output_type": "display_data"
    }
   ],
   "source": [
    "pic(100, 10)"
   ]
  },
  {
   "cell_type": "code",
   "execution_count": 337,
   "metadata": {},
   "outputs": [
    {
     "data": {
      "image/png": "[encoded data removed]",
      "text/plain": [
       "<Figure size 432x288 with 1 Axes>"
      ]
     },
     "metadata": {
      "needs_background": "light"
     },
     "output_type": "display_data"
    }
   ],
   "source": [
    "pic(10, 10)"
   ]
  }
 ],
 "metadata": {
  "kernelspec": {
   "display_name": "Python 3",
   "language": "python",
   "name": "python3"
  }
 },
 "nbformat": 4,
 "nbformat_minor": 2
}
