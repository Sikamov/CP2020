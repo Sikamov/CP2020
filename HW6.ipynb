{
 "cells": [
  {
   "cell_type": "markdown",
   "metadata": {},
   "source": [
    "# Part I. One-sided finite differences"
   ]
  },
  {
   "cell_type": "markdown",
   "metadata": {},
   "source": [
    "Write a function, `deriv`, which computes a derivative of its argument at a given point, $x$, using a one-sided finite difference rule with a given step side $h$, with the approximation order of $O(h^2)$. "
   ]
  },
  {
   "cell_type": "markdown",
   "metadata": {},
   "source": [
    "$$ f'(x) = (-1.5f(x)+2f(x+h)-0.5f(x+2h))/h = f'(x) + O(h^2) $$"
   ]
  },
  {
   "cell_type": "code",
   "execution_count": 1,
   "metadata": {},
   "outputs": [],
   "source": [
    "def deriv(f, x, h):\n",
    "    \"\"\" Compute a derivative of `f` at point `x` with step size `h`.\n",
    "    \n",
    "    Compute the derivative using the one-sided rule of the approximation order of $O(h^2)$.\n",
    "    \n",
    "    Parameters\n",
    "    ----------\n",
    "    f : callable\n",
    "        The function to differentiate\n",
    "    x : float\n",
    "        The point to compute the derivative at.\n",
    "    h : float\n",
    "        The step size for the finite different rule.\n",
    "        \n",
    "    Returns\n",
    "    -------\n",
    "    fder : derivative of f(x) at point x using the step size h.\n",
    "    \"\"\"\n",
    "    return (-1.5*f(x)-0.5*f(x+2*h)+2*f(x+h))/h"
   ]
  },
  {
   "cell_type": "markdown",
   "metadata": {},
   "source": [
    "#### Test I.1\n",
    "\n",
    "Test your function on a simple test case: differentiate $f(x) = x^3$ at $x=0$. Comment on whether your results are consistent with the expected value of $f'(x) = 0$ and on an expected scaling with $h\\to 0$.\n",
    "\n",
    " (10% of the total grade)"
   ]
  },
  {
   "cell_type": "code",
   "execution_count": 2,
   "metadata": {},
   "outputs": [
    {
     "name": "stdout",
     "output_type": "stream",
     "text": [
      "0.010000 -- -0.0002\n",
      "0.001000 --  -2e-06\n",
      "0.000100 --  -2e-08\n",
      "0.000010 --  -2e-10\n"
     ]
    }
   ],
   "source": [
    "x = 0\n",
    "for h in [1e-2, 1e-3, 1e-4, 1e-5]:\n",
    "    err = deriv(lambda x: x**3, x, h)\n",
    "    print(\"%5f -- %7.4g\" % (h, err))"
   ]
  },
  {
   "cell_type": "markdown",
   "metadata": {},
   "source": [
    "Видно, что уменьшая шаг в N раз, то ошибка уменьшается в  $ N^2 $ раз, в этом и заключается квадратичная точность"
   ]
  },
  {
   "cell_type": "markdown",
   "metadata": {},
   "source": [
    "### Test I.2\n",
    "\n",
    "Now use a slightly more complicated function, $f(x) = x^2 \\log{x}$, evaluate the derivative at $x=1$ using your one-sided rule and a two-point one-sided rule. Roughly estimate the value of $h$ where the error stops decreasing, for these two schemes. \n",
    "(15% of the total grade)"
   ]
  },
  {
   "cell_type": "code",
   "execution_count": 3,
   "metadata": {},
   "outputs": [],
   "source": [
    "import numpy as np\n",
    "from matplotlib import pyplot as plt"
   ]
  },
  {
   "cell_type": "code",
   "execution_count": 4,
   "metadata": {},
   "outputs": [],
   "source": [
    "def deriv_2(f,x,h):\n",
    "    return (f(x+h)-f(x))/h"
   ]
  },
  {
   "cell_type": "code",
   "execution_count": 5,
   "metadata": {},
   "outputs": [],
   "source": [
    "from math import log\n",
    "\n",
    "def f(x):\n",
    "    return x**2 * log(x)\n",
    "    \n",
    "def fder(x):\n",
    "    return x * (2.*log(x) + 1)"
   ]
  },
  {
   "cell_type": "code",
   "execution_count": 6,
   "metadata": {},
   "outputs": [
    {
     "data": {
      "image/png": "[encoded data removed]",
      "text/plain": [
       "<Figure size 576x576 with 1 Axes>"
      ]
     },
     "metadata": {
      "needs_background": "light"
     },
     "output_type": "display_data"
    }
   ],
   "source": [
    "h = [1e-2, 1e-3, 1e-4, 1e-5, 1e-6, 1e-7, 1e-8, 1e-9, 1e-10, 1e-11, 1e-12, 1e-13, 1e-14, 1e-15]\n",
    "x = 1\n",
    "D = []\n",
    "D_2 = []\n",
    "for i in h:\n",
    "    D.append(abs(fder(x) - deriv(f, x, i)))\n",
    "    D_2.append(abs(fder(x) - deriv_2(f, x, i)))\n",
    "\n",
    "plt.figure(figsize=(8, 8))\n",
    "plt.plot(h, D, 'o-', alpha=0.7, label='O($h$)', color='C0')\n",
    "plt.plot(h, D_2, 'o-', alpha=0.7, label='O($h^2$)', color='C1')\n",
    "\n",
    "plt.xscale('log')\n",
    "plt.yscale('log')\n",
    "plt.xlabel('h')\n",
    "plt.ylabel('|Df-f*|')\n",
    "plt.grid()\n",
    "plt.legend()\n",
    "plt.show()"
   ]
  },
  {
   "cell_type": "markdown",
   "metadata": {},
   "source": [
    "Видно, что для O($h^2$) минимум достигается при h~10^(-8), а для  O(h) минимум достигается при h~10^(-5)"
   ]
  },
  {
   "cell_type": "markdown",
   "metadata": {},
   "source": [
    "### Test I.3 \n",
    "\n",
    "Now try differentiating $x^2 \\log(x)$ at $x=0$. Use the three-point one-sided rule. Note that to evaluate the function at zero, you need to special-case this value. Check the scaling of the error with $h$, explain your results. \n",
    "(25% of the total grade)"
   ]
  },
  {
   "cell_type": "code",
   "execution_count": 7,
   "metadata": {},
   "outputs": [
    {
     "name": "stdout",
     "output_type": "stream",
     "text": [
      "O(h^2)\n",
      "0.010000 -- -0.01386\n",
      "0.001000 -- -0.001386\n",
      "0.000100 -- -0.0001386\n",
      "0.000010 -- -1.386e-05\n",
      "O(h)\n",
      "0.010000 -- -0.04605\n",
      "0.001000 -- -0.006908\n",
      "0.000100 -- -0.000921\n",
      "0.000010 -- -0.0001151\n"
     ]
    }
   ],
   "source": [
    "def f(x):\n",
    "    if x == 0:\n",
    "        # the limit of $x^2 log(x)$ at $x-> 0$ is zero, even though log(x) is undefined at x=0\n",
    "        return 0.0\n",
    "    else:\n",
    "        return x**2 * log(x)\n",
    "    \n",
    "def fder(x):\n",
    "    if x == 0:\n",
    "        return 0.0\n",
    "    else:\n",
    "        return x*(2*log(x) + 1)\n",
    "print ('O(h^2)')\n",
    "x = 0\n",
    "for h in [1e-2, 1e-3, 1e-4, 1e-5]:\n",
    "    err = deriv(f, x, h) - fder(x)\n",
    "    print(\"%5f -- %7.4g\" % (h, err))\n",
    "print ('O(h)')\n",
    "x = 0\n",
    "for h in [1e-2, 1e-3, 1e-4, 1e-5]:\n",
    "    err = deriv_2(f, x, h) - fder(x)\n",
    "    print(\"%5f -- %7.4g\" % (h, err))"
   ]
  },
  {
   "cell_type": "markdown",
   "metadata": {},
   "source": [
    "В точки x=0 обе функции дают одну точность по h: причина я думаю в том заключается, что остаточный член дает третья производная пропорцианальная 1/x, что говорит нам о таком характере сходимости"
   ]
  },
  {
   "cell_type": "markdown",
   "metadata": {},
   "source": [
    "# Part II. Midpoint rule "
   ]
  },
  {
   "cell_type": "markdown",
   "metadata": {},
   "source": [
    "Write a function which computes a definite integral using the midpoint rule up to a given error, $\\epsilon$. Estimate the error by comparing the estimates of the integral at $N$ and $2N$ elementary intervals. "
   ]
  },
  {
   "cell_type": "code",
   "execution_count": 8,
   "metadata": {},
   "outputs": [],
   "source": [
    "def midpoint_rule(func, a, b, eps):\n",
    "    \"\"\" Calculate the integral of f from a to b using the midpoint rule.\n",
    "    \n",
    "    Parameters\n",
    "    ----------\n",
    "    func : callable\n",
    "        The function to integrate.\n",
    "    a : float\n",
    "        The lower limit of integration.\n",
    "    b : float\n",
    "        The upper limit of integration.\n",
    "    eps : float\n",
    "        The target accuracy of the estimate.\n",
    "        \n",
    "    Returns\n",
    "    -------\n",
    "    integral : float\n",
    "        The estimate of $\\int_a^b f(x) dx$.\n",
    "    \"\"\"\n",
    "    N=2\n",
    "    dx=(b-a)/(N-1)/2\n",
    "    x=np.linspace(a+dx,b-dx,N-1)\n",
    "    I=(b-a)/(N-1)*np.sum(func(x))\n",
    "    err=float(\"inf\")\n",
    "    while (err>eps):\n",
    "        I_0=I\n",
    "        N*=2\n",
    "        dx=(b-a)/(N-1)/2\n",
    "        x=np.linspace(a+dx,b-dx,N-1)\n",
    "        I=(b-a)/(N-1)*np.sum(func(x))\n",
    "        err=np.abs(I-I_0)\n",
    "    return (I,N)\n",
    "    "
   ]
  },
  {
   "cell_type": "markdown",
   "metadata": {},
   "source": [
    "### Test II.1\n",
    "\n",
    "Test your midpoint rule on a simple integral, which you can calculate by paper and pencil.\n",
    "\n",
    "Compare the rate of convergence to the expected $O(N^{-2})$ scaling by studying the number of intervals required for a given accuracy $\\epsilon$.\n",
    "\n",
    "Compare the numerical results to the value you calculated by hand. Does the deviation agree with your estimate of the numerical error?\n",
    "(20% of the total grade)\n"
   ]
  },
  {
   "cell_type": "markdown",
   "metadata": {},
   "source": [
    "$$\n",
    "\\int_0^1\\! x^2\\, dx = 0.(3)\n",
    "$$"
   ]
  },
  {
   "cell_type": "code",
   "execution_count": 9,
   "metadata": {},
   "outputs": [
    {
     "data": {
      "image/png": "[encoded data removed]",
      "text/plain": [
       "<Figure size 720x720 with 1 Axes>"
      ]
     },
     "metadata": {
      "needs_background": "light"
     },
     "output_type": "display_data"
    },
    {
     "name": "stdout",
     "output_type": "stream",
     "text": [
      "(0.3333123372805913, 64)\n"
     ]
    }
   ],
   "source": [
    "def func(x):\n",
    "    return x**2\n",
    "midpoint_rule(func, a=0, b=1, eps=1/10000)\n",
    "eps=[ 0.05, 10**(-2),10**(-3),10**(-4),10**(-5),10**(-6),10**(-7)]\n",
    "N=[]\n",
    "for i in eps:\n",
    "    I, n = midpoint_rule(func, a=0, b=1, eps=i)\n",
    "    N.append(n)\n",
    "    \n",
    "y=[]  \n",
    "x=[]\n",
    "for i in range(5,2000):\n",
    "    y.append(i**(-2))  \n",
    "    x.append(i)\n",
    "        \n",
    "plt.figure(figsize=(10, 10))\n",
    "plt.plot(N, eps, 'o-', alpha=0.7, label='eps(N)', color='C0')\n",
    "plt.plot(x, y, '-', alpha=0.7, label='$1/N^2$', color='C1')\n",
    "plt.xlabel('N')\n",
    "plt.ylabel('eps')\n",
    "plt.legend()\n",
    "plt.xscale('log')\n",
    "plt.yscale('log')\n",
    "plt.show()\n",
    "\n",
    "print(midpoint_rule(func, a=0, b=1, eps=1/10000))"
   ]
  },
  {
   "cell_type": "markdown",
   "metadata": {},
   "source": [
    "Видно, что eps(N) зависит от N как $1/N^2$"
   ]
  },
  {
   "cell_type": "markdown",
   "metadata": {},
   "source": [
    "### Test II.2\n",
    "\n",
    "Now use your midpoint rule to compute the value of\n",
    "\n",
    "$$\n",
    "\\int_0^1\\! \\frac{\\sin{\\sqrt{x}}}{x}\\, dx\n",
    "$$\n",
    "\n",
    "up to a predefined accuracy of $\\epsilon=10^{-4}$.\n",
    "\n",
    "Note that the integral contains an integrable singularity at the lower limit. Do calculations two ways: first, do a straightforward computation; next, subtract the singularity. Compare the number of iterations required to achieve the accuracy of $\\epsilon$.\n",
    "\n",
    "(30% of the total grade)"
   ]
  },
  {
   "cell_type": "markdown",
   "metadata": {},
   "source": [
    "$$\n",
    " \\frac{\\sin{\\sqrt{x}}}{x}\\ = \\frac{1}{\\sqrt{x}}+\\frac{x^{\\frac{3}{2}}}{6}+\\;...\\;\\;\\;\\Rightarrow \n",
    "$$\n",
    "$$\n",
    "\\Rightarrow \\;\\;\\int_0^1\\! \\frac{\\sin{\\sqrt{x}}}{x}\\, dx\n",
    "= \\int_0^1\\! \\frac{\\sin{\\sqrt{x}}}{x}-\\frac{1}{\\sqrt{x}}\\, dx \n",
    "\\;+\\int_0^1\\! \\frac{1}{\\sqrt{x}}\\, dx \n",
    "$$\n",
    "$$\\int_0^1\\! \\frac{1}{\\sqrt{x}}\\, dx = 2$$"
   ]
  },
  {
   "cell_type": "code",
   "execution_count": 13,
   "metadata": {},
   "outputs": [],
   "source": [
    "def func(x):\n",
    "    return np.sin(np.sqrt(x))/x\n",
    "\n",
    "def func_sing(x):\n",
    "    return f1(x)-np.sqrt(1/x)\n",
    "\n",
    "def sing(x):\n",
    "    return np.sqrt(1/x)"
   ]
  },
  {
   "cell_type": "code",
   "execution_count": 17,
   "metadata": {},
   "outputs": [
    {
     "name": "stdout",
     "output_type": "stream",
     "text": [
      "1.8919572891918648 Интеграл без изменений\n",
      "1.8919377480157564 Интеграл с учетом сингулярности посчитанной программой\n",
      "1.8921465995578393 Интеграл с учетом сингулярности посчитанной вручную\n"
     ]
    }
   ],
   "source": [
    "print(midpoint_rule(func, 0, 1, 1e-4)[0], \"Интеграл без изменений\")\n",
    "print(midpoint_rule(func_sing, 0, 1, 1e-4)[0]+midpoint_rule(sing, 0, 1, 1e-4)[0], \"Интеграл с учетом сингулярности посчитанной программой\")\n",
    "print(midpoint_rule(func_sing, 0, 1, 1e-4)[0]+2, \"Интеграл с учетом сингулярности посчитанной вручную\")"
   ]
  },
  {
   "cell_type": "markdown",
   "metadata": {},
   "source": [
    "Видно, что все эти значения близки друг к дургу"
   ]
  },
  {
   "cell_type": "code",
   "execution_count": 18,
   "metadata": {},
   "outputs": [
    {
     "name": "stdout",
     "output_type": "stream",
     "text": [
      "8388608 Интеграл без изменений\n",
      "8388672 Интеграл с учетом сингулярности посчитанной программой\n",
      "64 Интеграл с учетом сингулярности посчитанной вручную\n"
     ]
    }
   ],
   "source": [
    "print(midpoint_rule(func, 0, 1, 1e-4)[1], \"Интеграл без изменений\")\n",
    "print(midpoint_rule(func_sing, 0, 1, 1e-4)[1]+midpoint_rule(sing, 0, 1, 1e-4)[1], \"Интеграл с учетом сингулярности посчитанной программой\")\n",
    "print(midpoint_rule(func_sing, 0, 1, 1e-4)[1], \"Интеграл с учетом сингулярности посчитанной вручную\")"
   ]
  },
  {
   "cell_type": "markdown",
   "metadata": {},
   "source": [
    "Число итераций "
   ]
  }
 ],
 "metadata": {
  "kernelspec": {
   "display_name": "Python 3",
   "language": "python",
   "name": "python3"
  },
  "language_info": {
   "codemirror_mode": {
    "name": "ipython",
    "version": 3
   },
   "file_extension": ".py",
   "mimetype": "text/x-python",
   "name": "python",
   "nbconvert_exporter": "python",
   "pygments_lexer": "ipython3",
   "version": "3.7.1"
  }
 },
 "nbformat": 4,
 "nbformat_minor": 2
}
