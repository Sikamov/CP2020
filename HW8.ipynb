{
 "cells": [
  {
   "cell_type": "markdown",
   "metadata": {},
   "source": [
    "## Part 1. Gaussian quadrature\n",
    "\n",
    "The Gaussian quadrature method is one of the methods of numerical integration that allows you to increase the accuracy of integration, by using orthogonal polynomials and their roots as nodes.\n",
    "\n",
    "$$\n",
    "\\int_a^b \\!  w(x)\\, f(x)\\, dx \\approx \\sum_{k=1}^n w_k \\, f(x_k) \\;,\n",
    "$$\n",
    "\n",
    "here $\\omega$ is the weight function, this weight function determines the basis of orthogonal polynomials whose roots are used as integration nodes. If the function $f(x)$ is a polynomial, then such an integration method gives *exact* value for the integral."
   ]
  },
  {
   "cell_type": "markdown",
   "metadata": {},
   "source": [
    "For example, let's calculate the following integral:\n",
    "$$\n",
    "\\int_{-1}^1 (7x^3 - 8 x^2 - 3 x + 3) dx  \\label{eq1}\\tag{1}\n",
    "$$\n",
    "\n",
    "Here function is already polynomial, so we put the weight function $\\omega(x) = 1$. Then the calculation of the integral reduces to the sum in the polynomials roots witch corresponding to the weight function $\\omega(x) = 1$. For example, here https://dlmf.nist.gov/18.3 you may see which basis of polynomials corresponds to your weight function.\n",
    "\n",
    "You may see, that Legendre polynomials correspond to our weight function. Now go to the documentation https://docs.scipy.org/doc/scipy/reference/special.html#orthogonal-polynomials. Here, the function *roots_legendre* immediately gives you the roots of the Legendre polynomial and weight at this roots (for Legendre polynomials all these weight are ones).\n"
   ]
  },
  {
   "cell_type": "markdown",
   "metadata": {},
   "source": [
    "### Task 1.1\n",
    "(20% of the grade)"
   ]
  },
  {
   "cell_type": "code",
   "execution_count": 3,
   "metadata": {},
   "outputs": [],
   "source": [
    "import numpy as np\n",
    "import matplotlib.pyplot as plt\n",
    "from scipy import special\n",
    "from scipy.linalg import solve\n",
    "from scipy.interpolate import CubicSpline"
   ]
  },
  {
   "cell_type": "markdown",
   "metadata": {},
   "source": [
    "1. Calculate the exact value of the integral ([1](#mjx-eqn-eq1)) using a pen and paper (or in your mind). Remember it, then you will compare numerical results with it."
   ]
  },
  {
   "cell_type": "code",
   "execution_count": 4,
   "metadata": {},
   "outputs": [
    {
     "data": {
      "text/plain": [
       "0.6666666666666666"
      ]
     },
     "execution_count": 4,
     "metadata": {},
     "output_type": "execute_result"
    }
   ],
   "source": [
    "2/3"
   ]
  },
  {
   "cell_type": "markdown",
   "metadata": {},
   "source": [
    "2. Calculate the value of the integral ([1](#mjx-eqn-eq1)) using the usual method of numerical integration on a uniform grid (for example, implemented by you in week_6_calculus homework). Estimate the number of nodes needed to achieve relative accuracy $10^{-10}$."
   ]
  },
  {
   "cell_type": "code",
   "execution_count": 5,
   "metadata": {},
   "outputs": [],
   "source": [
    "def getUniformInt(C,N):\n",
    "    xn = np.linspace(-1,1,N)\n",
    "    return np.sum(np.polyval(C,xn))*2/N"
   ]
  },
  {
   "cell_type": "code",
   "execution_count": 6,
   "metadata": {},
   "outputs": [],
   "source": [
    "def getUniformInt(func, a, b, eps):\n",
    "    N=2\n",
    "    dx=(b-a)/(N-1)/2\n",
    "    x=np.linspace(a+dx,b-dx,N-1)\n",
    "    I=(b-a)/(N-1)*np.sum(func(x))\n",
    "    err=float(\"inf\")\n",
    "    while (err>eps):\n",
    "        I_0=I\n",
    "        N*=2\n",
    "        dx=(b-a)/(N-1)/2\n",
    "        x=np.linspace(a+dx,b-dx,N-1)\n",
    "        I=(b-a)/(N-1)*np.sum(func(x))\n",
    "        err=np.abs(I-I_0)\n",
    "    return (I,N)"
   ]
  },
  {
   "cell_type": "code",
   "execution_count": 7,
   "metadata": {},
   "outputs": [],
   "source": [
    "def func(x):\n",
    "    return 7*x**3-8*x**2-3*x+3"
   ]
  },
  {
   "cell_type": "code",
   "execution_count": 8,
   "metadata": {},
   "outputs": [
    {
     "data": {
      "text/plain": [
       "(0.6666666666860691, 524288)"
      ]
     },
     "execution_count": 8,
     "metadata": {},
     "output_type": "execute_result"
    }
   ],
   "source": [
    "getUniformInt(func, a = -1, b = 1, eps = 10**(-10))"
   ]
  },
  {
   "cell_type": "markdown",
   "metadata": {},
   "source": [
    "3. Calculate the integral ([1](#mjx-eqn-eq1)) using the roots of the Legendre polynomial from 1 to 6 degrees as nodes (to get roots and weigths use scipy.special.roots_legendre)"
   ]
  },
  {
   "cell_type": "code",
   "execution_count": 9,
   "metadata": {},
   "outputs": [],
   "source": [
    "def getPloyInt(C, N):\n",
    "    xn, wn = special.roots_legendre(N)\n",
    "    return np.sum(wn * np.polyval(C, xn))"
   ]
  },
  {
   "cell_type": "code",
   "execution_count": 10,
   "metadata": {},
   "outputs": [],
   "source": [
    "C = [7, -8, -3, 3]"
   ]
  },
  {
   "cell_type": "code",
   "execution_count": 11,
   "metadata": {},
   "outputs": [
    {
     "name": "stdout",
     "output_type": "stream",
     "text": [
      "Для N =  1\n",
      "6.0\n",
      "Для N =  2\n",
      "0.6666666666666665\n",
      "Для N =  3\n",
      "0.6666666666666634\n",
      "Для N =  4\n",
      "0.6666666666666667\n",
      "Для N =  5\n",
      "0.6666666666666683\n",
      "Для N =  6\n",
      "0.6666666666666696\n"
     ]
    }
   ],
   "source": [
    "for i in range(1,7):\n",
    "    print('Для N = ',i)\n",
    "    print(getPloyInt(C, i))"
   ]
  },
  {
   "cell_type": "markdown",
   "metadata": {},
   "source": [
    "Compare the number of nodes needed to obtain the same accuracy in both numerical methods."
   ]
  },
  {
   "cell_type": "markdown",
   "metadata": {},
   "source": [
    "Видно, что уже для N=2 второй метод дает результат отличающийся с истинным в 16 знаке после запятой, когда для вычисления с точностью до 10 знака первому методу понадобилось порядка 500 тысяч иттераций"
   ]
  },
  {
   "cell_type": "markdown",
   "metadata": {},
   "source": [
    "### Task 1.2\n",
    "(20% of the grade)\n",
    "\n",
    "Calculate the value of the same integral, but on the interval from 0 to 10.\n",
    "$$\n",
    "\\int_{0}^{10} (7x^3 - 8 x^2 - 3 x + 3) dx \n",
    "$$\n",
    "\n",
    "Please note that you can no longer directly use Legendre polynomials, because they are defined for the interval (-1,1). But you can always make an *affine transformation* (a transformation that does not change the area) in order to go to the desired coordinate system."
   ]
  },
  {
   "cell_type": "code",
   "execution_count": 12,
   "metadata": {},
   "outputs": [
    {
     "data": {
      "text/plain": [
       "(14713.333333333288, 16777216)"
      ]
     },
     "execution_count": 12,
     "metadata": {},
     "output_type": "execute_result"
    }
   ],
   "source": [
    "getUniformInt(func, a = 0, b = 10, eps = 10**(-10))"
   ]
  },
  {
   "cell_type": "markdown",
   "metadata": {},
   "source": [
    "Точное значение 14713.(3)"
   ]
  },
  {
   "cell_type": "markdown",
   "metadata": {},
   "source": [
    "Или можно сделать замену перменнной y=10x, тогда пределы заменятся на 0 и 1, после чего можно использовать сдвинутые полиномы Лежандра"
   ]
  },
  {
   "cell_type": "markdown",
   "metadata": {},
   "source": [
    "$$\n",
    "\\int_{0}^{1} (7000y^3 - 800 y^2 - 30 y + 3) *10* dy \n",
    "$$"
   ]
  },
  {
   "cell_type": "code",
   "execution_count": 13,
   "metadata": {},
   "outputs": [],
   "source": [
    "def getPloyShInt(C, N):\n",
    "    xn, wn = special.roots_sh_legendre(N)\n",
    "    return np.sum(wn * np.polyval(C, xn))"
   ]
  },
  {
   "cell_type": "code",
   "execution_count": 14,
   "metadata": {},
   "outputs": [],
   "source": [
    "C_1=[70000,-8000,-300,30]"
   ]
  },
  {
   "cell_type": "code",
   "execution_count": 15,
   "metadata": {},
   "outputs": [
    {
     "name": "stdout",
     "output_type": "stream",
     "text": [
      "Для N =  1\n",
      "6630.0\n",
      "Для N =  2\n",
      "14713.333333333334\n",
      "Для N =  3\n",
      "14713.333333333336\n",
      "Для N =  4\n",
      "14713.33333333333\n",
      "Для N =  5\n",
      "14713.333333333332\n",
      "Для N =  6\n",
      "14713.333333333332\n"
     ]
    }
   ],
   "source": [
    "for i in range(1,7):\n",
    "    print('Для N = ',i)\n",
    "    print(getPloyShInt(C_1, i))"
   ]
  },
  {
   "cell_type": "markdown",
   "metadata": {},
   "source": [
    "Compare the result with the exact value of the integral."
   ]
  },
  {
   "cell_type": "markdown",
   "metadata": {},
   "source": [
    "Видно, что для N=2 отличие от истинного значения в 12 знаке после запятой"
   ]
  },
  {
   "cell_type": "markdown",
   "metadata": {},
   "source": [
    "### Task 1.3\n",
    "(20% of the grade)\n",
    "\n",
    "Calculate the value of the following integral:\n",
    "$$\n",
    "\\int_{0}^{2\\pi} \\frac{cos(x) dx }{\\sqrt{4\\pi^2 - x^2}}\n",
    "$$\n",
    "by using the corresponding basis of orthogonal polynomials. \n",
    "Find the degree of the polynomial (number of nodes) at which the accuracy of the integral starts to exceed the double floating point accuracy."
   ]
  },
  {
   "cell_type": "markdown",
   "metadata": {},
   "source": [
    "Сделаем замену x=2*pi*y и сведем итеграл к интегрированию с известным нам весом w соответсвующим полиномам Чебышева первого рода"
   ]
  },
  {
   "cell_type": "markdown",
   "metadata": {},
   "source": [
    "$$\n",
    "2 \\pi \\int_{0}^{1} \\frac{cos(2 \\pi y) }{\\sqrt{4\\pi^2 - 4\\pi^2 y^2}} dy = \\frac{1}{2}\\int_{-1}^{1} \\frac{cos(2 \\pi y) }{\\sqrt{1 -  y^2}} dy = \\frac{1}{2} \\pi J_0(2\\pi)\\approx 0.346010158812264447518432...\n",
    "$$"
   ]
  },
  {
   "cell_type": "code",
   "execution_count": 16,
   "metadata": {},
   "outputs": [],
   "source": [
    "def getChebInt(N):\n",
    "    xn, wn = special.roots_chebyt(N)\n",
    "    return np.sum(wn * np.cos(2*np.pi*xn))"
   ]
  },
  {
   "cell_type": "code",
   "execution_count": 17,
   "metadata": {},
   "outputs": [
    {
     "name": "stdout",
     "output_type": "stream",
     "text": [
      "Для N =  1\n",
      "1.5707963267948966\n",
      "Для N =  2\n",
      "-0.4182329132681744\n",
      "Для N =  3\n",
      "1.2211694475711936\n",
      "Для N =  4\n",
      "0.11575359323141321\n",
      "Для N =  5\n",
      "0.37786106634872507\n",
      "Для N =  6\n",
      "0.34323498164389277\n",
      "Для N =  7\n",
      "0.346177994276601\n",
      "Для N =  8\n",
      "0.3460026676271411\n",
      "Для N =  9\n",
      "0.3460104163733289\n",
      "Для N =  10\n",
      "0.3460101517706765\n",
      "Для N =  11\n",
      "0.34601015896916076\n",
      "Для N =  12\n",
      "0.3460101588093585\n",
      "Для N =  13\n",
      "0.3460101588123096\n",
      "Для N =  14\n",
      "0.34601015881226377\n",
      "Для N =  15\n",
      "0.34601015881226416\n",
      "Для N =  16\n",
      "0.34601015881226427\n",
      "Для N =  17\n",
      "0.34601015881226443\n",
      "Для N =  18\n",
      "0.34601015881226427\n",
      "Для N =  19\n",
      "0.3460101588122642\n",
      "Для N =  20\n",
      "0.34601015881226443\n",
      "Для N =  21\n",
      "0.34601015881226427\n",
      "Для N =  22\n",
      "0.3460101588122644\n",
      "Для N =  23\n",
      "0.34601015881226416\n",
      "Для N =  24\n",
      "0.34601015881226393\n"
     ]
    }
   ],
   "source": [
    "for i in range(1,25): \n",
    "    print('Для N = ',i)\n",
    "    print(getChebInt(i)/2)"
   ]
  },
  {
   "cell_type": "markdown",
   "metadata": {},
   "source": [
    "Видно, что для N=22 отличие с истинной в 16 знаке полсе запятой"
   ]
  },
  {
   "cell_type": "markdown",
   "metadata": {},
   "source": [
    "## Part 2. Fredholm equation\n",
    "\n",
    "There are two types of Fredholm equations. \n",
    "\n",
    "1. Fredholm equation of the first kind:\n",
    "$$\n",
    "\\int_a^b \\! K(x, t)\\, \\color{blue}{f(t)} \\,dt = g(x)\n",
    "$$\n",
    "\n",
    "2. Fredholm equation of the second kind:\n",
    "$$\n",
    "\\lambda \\int_a^b\\! K(x, t)\\, \\color{blue}{f(t)} \\, dt + g(x) = \\color{blue}{f(x)}\n",
    "$$\n",
    "\n",
    "Here higtlighted function $f(x)$ is unknown, kernel function $K(x, t)$ and given function $g(x)$, $\\lambda$ is a real number. Numerically, Fredholm equations of the first kind are very ill-conditioned. We will consider equations of the second kind only."
   ]
  },
  {
   "cell_type": "markdown",
   "metadata": {},
   "source": [
    "The basic idea is to approximate the integral by some quadrature formula\n",
    "\n",
    "$$\n",
    "\\int_a^b \\! \\xi(t)\\, dt \\approx \\sum_j^N w_j\\, \\xi(t_j)\n",
    "$$\n",
    "\n",
    "with appropriate weights $w_j$ and nodes $t_j$ and $j=1, \\dots, N$. The accuracy of the approximation is controlled by $N$."
   ]
  },
  {
   "cell_type": "markdown",
   "metadata": {},
   "source": [
    "This way, the FE is approximated by \n",
    "\n",
    "$$\n",
    "\\lambda \\sum_j w_j\\, K(x, t_j)\\, \\color{blue}{f(t_j)} + g(x) = \\color{blue}{f(x)}\n",
    "$$\n",
    "\n",
    "Note that here $x$ is a continuous variable, and we only discretized $t$.\n"
   ]
  },
  {
   "cell_type": "markdown",
   "metadata": {},
   "source": [
    "Evaluating this equation on the grid $x = t_k$, we obtain\n",
    "\n",
    "$$\n",
    "\\lambda \\sum_j w_j \\, K_{k, j}\\, \\color{blue}{f_j} + g_k = \\color{blue}{f_k}\n",
    "$$\n",
    "\n",
    "where $f_j \\equiv f(t_j)$, $g_j \\equiv g(t_j)$ and $K_{k, j} \\equiv K(t_k, t_j)$. This is nothing but a system of linear algebraic equations for the vector of $\\color{blue}{f_j}$.\n",
    "\n",
    "Its solution gives the values of the unknown function $f(x)$ at the discrete values $x=t_j$ for $j=1, \\dots, N$."
   ]
  },
  {
   "cell_type": "markdown",
   "metadata": {},
   "source": [
    "### Task 2.1\n",
    "(20% of the grade)\n",
    "\n",
    "Solve an example Fredholm equation of the second kind\n",
    "\n",
    "$$\n",
    "f(x) = \\sin(\\pi x)  + \\frac{1}{2} \\int_0^1\\! f(t) \\, dt\n",
    "$$\n",
    "\n",
    "Here $a, b = 0, 1$, $\\lambda = \\dfrac{1}{2}$, the kernel is $K(x, t) = 1$ and the right-hand side $g(x) = \\sin(\\pi x)$.\n",
    "\n",
    "In fact, the exact solution is (В. А. Попов, Сборник задач по интегральным уравнениям, 2006, стр. 5)\n",
    "\n",
    "$$\n",
    "f(x) = \\sin(\\pi x) + \\frac{2}{\\pi}\n",
    "$$"
   ]
  },
  {
   "cell_type": "markdown",
   "metadata": {},
   "source": [
    "For the integral, we can use a Gaussian quadrature with the weight function $w(x) = 1$ on $(0, 1)$. Looking at http://dlmf.nist.gov/18.3, and find the corresponding function in *scipy.special* (pay attention to the integration interval).\n",
    "\n",
    "Compare the obtained function values with the true solution for different values of $N$. What value of $N$ can you stop at?"
   ]
  },
  {
   "cell_type": "code",
   "execution_count": 19,
   "metadata": {},
   "outputs": [
    {
     "name": "stdout",
     "output_type": "stream",
     "text": [
      "Для N =  1   Разность 0.3633802276324185\n",
      "Для N =  2   Разность 0.02889134205974216\n",
      "Для N =  3   Разность 0.0007657482051929123\n",
      "Для N =  4   Разность 1.0040475654338188e-05\n",
      "Для N =  5   Разность 7.849635643883314e-08\n",
      "Для N =  6   Разность 4.075691794594161e-10\n",
      "Для N =  7   Разность 1.5066630835619936e-12\n",
      "Для N =  8   Разность 2.6967223568632722e-15\n",
      "Для N =  9   Разность 4.839349969133127e-16\n",
      "Для N =  10   Разность 2.5414166642833352e-15\n",
      "Для N =  11   Разность 4.2998752849492583e-16\n",
      "Для N =  12   Разность 2.3048828947687888e-15\n",
      "Для N =  13   Разность 1.8544380573903915e-15\n",
      "Для N =  14   Разность 7.691850745534255e-16\n",
      "Для N =  15   Разность 9.992007221626409e-16\n",
      "Для N =  16   Разность 5.6903668571537386e-15\n",
      "Для N =  17   Разность 3.4808634655971465e-15\n",
      "Для N =  18   Разность 1.8209011484034673e-15\n",
      "Для N =  19   Разность 6.729453643524391e-15\n"
     ]
    },
    {
     "data": {
      "text/plain": [
       "<matplotlib.legend.Legend at 0x10c2a7ac8>"
      ]
     },
     "execution_count": 19,
     "metadata": {},
     "output_type": "execute_result"
    },
    {
     "data": {
      "image/png": "[encoded data removed]",
      "text/plain": [
       "<Figure size 432x288 with 1 Axes>"
      ]
     },
     "metadata": {
      "needs_background": "light"
     },
     "output_type": "display_data"
    }
   ],
   "source": [
    "D=[]\n",
    "I=[]\n",
    "for i in range(1,20):\n",
    "    xn, wn = special.roots_sh_legendre(i)\n",
    "    f_solve = np.linalg.solve(np.eye(i)-1/2*wn, np.sin(np.pi*xn))\n",
    "    f_real = np.sin(np.pi*xn)+2/np.pi\n",
    "    d = np.linalg.norm(f_real - f_solve)\n",
    "    print('Для N = ',i,'  Разность',d)\n",
    "    D.append(d)\n",
    "    I.append(i)\n",
    "plt.plot(I,D, label=\"Зависимость значения разницы от N\")\n",
    "plt.yscale('log') \n",
    "plt.yscale('log')\n",
    "plt.legend()"
   ]
  },
  {
   "cell_type": "markdown",
   "metadata": {},
   "source": [
    "Видно, что при N=9 точность уже -16 степени"
   ]
  },
  {
   "cell_type": "markdown",
   "metadata": {},
   "source": [
    "### Task 2.2\n",
    "(20% of the grade)\n",
    "\n",
    "An obvious issue with the privious result for $f(x)$ that it returns the solution on a fixed set of points. We do not control precise positions of these points.\n",
    "\n",
    "1. First, let's try to interpolate the values obtained in the previous task to a uniform grid of length 50. You may use any interpolation method. Compare the interpolation values with exact solution values."
   ]
  },
  {
   "cell_type": "code",
   "execution_count": 20,
   "metadata": {
    "scrolled": false
   },
   "outputs": [
    {
     "name": "stdout",
     "output_type": "stream",
     "text": [
      "N = 5    Разница = 0.018656017431925267\n",
      "N = 6    Разница = 0.004765085737764843\n",
      "N = 7    Разница = 0.0016845581321547009\n",
      "N = 8    Разница = 0.0008849562879121612\n",
      "N = 9    Разница = 0.0005375645619812478\n",
      "N = 10    Разница = 0.00035126845088719\n",
      "N = 11    Разница = 0.00024049046118891176\n",
      "N = 12    Разница = 0.00017052662956150262\n",
      "N = 13    Разница = 0.00012440466458064792\n",
      "N = 14    Разница = 9.294523210232144e-05\n",
      "N = 15    Разница = 7.081487243361819e-05\n",
      "N = 16    Разница = 5.496469021388581e-05\n",
      "N = 17    Разница = 4.3325664446028853e-05\n",
      "N = 18    Разница = 3.453547071863148e-05\n",
      "N = 19    Разница = 2.7916506404255777e-05\n",
      "N = 20    Разница = 2.2846670136768998e-05\n",
      "N = 21    Разница = 1.886347162743767e-05\n",
      "N = 22    Разница = 1.5713227884797712e-05\n",
      "N = 23    Разница = 1.3213825807938664e-05\n",
      "N = 24    Разница = 1.1194216446297027e-05\n",
      "N = 25    Разница = 9.3900851906388e-06\n",
      "N = 26    Разница = 8.154906359825624e-06\n",
      "N = 27    Разница = 6.996524734563559e-06\n",
      "N = 28    Разница = 6.0539664635815194e-06\n",
      "N = 29    Разница = 5.289229933969233e-06\n",
      "N = 30    Разница = 4.599874456360888e-06\n",
      "N = 31    Разница = 4.065416719936961e-06\n",
      "N = 32    Разница = 3.5885740688114578e-06\n",
      "N = 33    Разница = 3.123760866865891e-06\n",
      "N = 34    Разница = 2.851216659438748e-06\n",
      "N = 35    Разница = 2.573612911847519e-06\n",
      "N = 36    Разница = 2.1616638923060596e-06\n",
      "N = 37    Разница = 1.8208887647625737e-06\n",
      "N = 38    Разница = 1.6480003460126095e-06\n",
      "N = 39    Разница = 1.5508672062511145e-06\n",
      "N = 40    Разница = 1.4491237560543306e-06\n",
      "N = 41    Разница = 1.3334975143080054e-06\n",
      "N = 42    Разница = 1.2175625615134888e-06\n",
      "N = 43    Разница = 1.1100536682772085e-06\n",
      "N = 44    Разница = 1.0134323574092773e-06\n",
      "N = 45    Разница = 9.271597683177724e-07\n",
      "N = 46    Разница = 8.506505386248375e-07\n",
      "N = 47    Разница = 7.817108876172398e-07\n",
      "N = 48    Разница = 7.207422256508123e-07\n",
      "N = 49    Разница = 6.639608860551529e-07\n"
     ]
    },
    {
     "data": {
      "image/png": "[encoded data removed]",
      "text/plain": [
       "<Figure size 432x288 with 1 Axes>"
      ]
     },
     "metadata": {
      "needs_background": "light"
     },
     "output_type": "display_data"
    },
    {
     "data": {
      "image/png": "[encoded data removed]",
      "text/plain": [
       "<Figure size 432x288 with 1 Axes>"
      ]
     },
     "metadata": {
      "needs_background": "light"
     },
     "output_type": "display_data"
    }
   ],
   "source": [
    "x = np.linspace(0, 1, 50)\n",
    "D=[]\n",
    "I=[]\n",
    "for i in range(5,50):\n",
    "    xn, wn = special.roots_sh_legendre(i)\n",
    "    f_solve = np.linalg.solve(np.eye(i)-1/2*wn, np.sin(np.pi*xn))\n",
    "    f_interpol = CubicSpline(xn, f_solve)\n",
    "    f_real = lambda x: np.sin(np.pi*x)+2/np.pi\n",
    "    d = np.linalg.norm(f_real(x) - f_interpol(x))\n",
    "    print(\"N =\", i,'   Разница =', d)\n",
    "    D.append(d)\n",
    "    I.append(i)\n",
    "plt.plot(I,D, label=\"Зависимость значения разницы от N\")\n",
    "plt.yscale('log') \n",
    "plt.yscale('log')\n",
    "plt.legend()\n",
    "plt.show()\n",
    "plt.plot(x, f_interpol(x), label='Интерполяция')\n",
    "plt.plot(x, f_real(x), 'o', label='Истинна')\n",
    "plt.legend()\n",
    "plt.show()"
   ]
  },
  {
   "cell_type": "markdown",
   "metadata": {},
   "source": [
    "2. Now use the following formula to calculate the function at points of the same uniform grid.\n",
    "$$\n",
    "f(x) = g(x) + \\lambda \\sum_j^N w_j\\, K(x, t_j)\\, f(t_j)\n",
    "$$\n",
    "Again, compare the interpolation values with the exact solution values, and also with the direct interpolation method."
   ]
  },
  {
   "cell_type": "code",
   "execution_count": 23,
   "metadata": {},
   "outputs": [
    {
     "name": "stdout",
     "output_type": "stream",
     "text": [
      "N = 5    Разница реального= 2.4822727484216415e-07    Разница интерполируемого= 0.018656064888993847\n",
      "N = 6    Разница реального= 1.1765510448480331e-09    Разница интерполируемого= 0.0047650853164901575\n",
      "N = 7    Разница реального= 4.027475685630489e-12    Разница интерполируемого= 0.00168455813430949\n",
      "N = 8    Разница реального= 7.0058503728469556e-15    Разница интерполируемого= 0.0008849562879080654\n",
      "N = 9    Разница реального= 0.0    Разница интерполируемого= 0.0005375645619812478\n",
      "N = 10    Разница реального= 5.632672503515322e-15    Разница интерполируемого= 0.0003512684508906341\n",
      "N = 11    Разница реального= 0.0    Разница интерполируемого= 0.00024049046118891176\n",
      "N = 12    Разница реального= 3.89370267511739e-15    Разница интерполируемого= 0.00017052662955914378\n",
      "N = 13    Разница реального= 2.546262077003306e-15    Разница интерполируемого= 0.0001244046645821386\n",
      "N = 14    Разница реального= 9.805224261780596e-16    Разница интерполируемого= 9.294523210200851e-05\n",
      "N = 15    Разница реального= 9.805224261780596e-16    Разница интерполируемого= 7.081487243314469e-05\n",
      "N = 16    Разница реального= 1.0135308628835563e-14    Разница интерполируемого= 5.4964690207594025e-05\n",
      "N = 17    Разница реального= 5.632672503515322e-15    Разница интерполируемого= 4.332566444954664e-05\n",
      "N = 18    Разница реального= 2.010699415441723e-15    Разница интерполируемого= 3.45354707198275e-05\n",
      "N = 19    Разница реального= 1.0135308628835563e-14    Разница интерполируемого= 2.7916506397819828e-05\n",
      "N = 20    Разница реального= 3.89370267511739e-15    Разница интерполируемого= 2.2846670134450167e-05\n",
      "N = 21    Разница реального= 3.1401849173675502e-15    Разница интерполируемого= 1.8863471629427114e-05\n",
      "N = 22    Разница реального= 7.723833630868743e-15    Разница интерполируемого= 1.571322788012764e-05\n",
      "N = 23    Разница реального= 5.445754277935465e-15    Разница интерполируемого= 1.3213825804489835e-05\n",
      "N = 24    Разница реального= 1.6910413304902302e-15    Разница интерполируемого= 1.1194216445595967e-05\n",
      "N = 25    Разница реального= 7.193354224688282e-15    Разница интерполируемого= 9.390085195216565e-06\n",
      "N = 26    Разница реального= 2.3655828132643237e-15    Разница интерполируемого= 8.154906358494129e-06\n",
      "N = 27    Разница реального= 7.193354224688282e-15    Разница интерполируемого= 6.996524739010019e-06\n",
      "N = 28    Разница реального= 2.546262077003306e-15    Разница интерполируемого= 6.053966465287938e-06\n",
      "N = 29    Разница реального= 1.0135308628835563e-14    Разница интерполируемого= 5.289229927558515e-06\n",
      "N = 30    Разница реального= 1.9544340394344005e-14    Разница интерполируемого= 4.599874443826952e-06\n",
      "N = 31    Разница реального= 2.7391251825629415e-14    Разница интерполируемого= 4.065416702472788e-06\n",
      "N = 32    Разница реального= 7.723833630868743e-15    Разница интерполируемого= 3.5885740640620725e-06\n",
      "N = 33    Разница реального= 1.483799677404355e-14    Разница интерполируемого= 3.123760857099676e-06\n",
      "N = 34    Разница реального= 2.546262077003306e-15    Разница интерполируемого= 2.851216660946377e-06\n",
      "N = 35    Разница реального= 2.546262077003306e-15    Разница интерполируемого= 2.573612913430256e-06\n",
      "N = 36    Разница реального= 2.757960253441069e-14    Разница интерполируемого= 2.161663910989e-06\n",
      "N = 37    Разница реального= 2.8261664256307952e-14    Разница интерполируемого= 1.8208887855279237e-06\n",
      "N = 38    Разница реального= 3.1401849173675502e-15    Разница интерполируемого= 1.648000343732829e-06\n",
      "N = 39    Разница реального= 1.170219307504837e-14    Разница интерполируемого= 1.5508671982422043e-06\n",
      "N = 40    Разница реального= 7.193354224688282e-15    Разница интерполируемого= 1.4491237607905928e-06\n",
      "N = 41    Разница реального= 8.757400934606982e-15    Разница интерполируемого= 1.3334975199093297e-06\n",
      "N = 42    Разница реального= 7.723833630868743e-15    Разница интерполируемого= 1.2175625567024782e-06\n",
      "N = 43    Разница реального= 1.6594770611008684e-14    Разница интерполируемого= 1.110053678966524e-06\n",
      "N = 44    Разница реального= 2.1113511483401716e-14    Разница интерполируемого= 1.0134323437165755e-06\n",
      "N = 45    Разница реального= 2.546262077003306e-15    Разница интерполируемого= 9.271597699705727e-07\n",
      "N = 46    Разница реального= 3.5428119565064334e-14    Разница интерполируемого= 8.506505612250504e-07\n",
      "N = 47    Разница реального= 2.3655828132643237e-15    Разница интерполируемого= 7.817108863413262e-07\n",
      "N = 48    Разница реального= 1.0846145974081456e-14    Разница интерполируемого= 7.207422186629211e-07\n",
      "N = 49    Разница реального= 1.9732633185574442e-14    Разница интерполируемого= 6.639608989065389e-07\n"
     ]
    },
    {
     "data": {
      "image/png": "[encoded data removed]",
      "text/plain": [
       "<Figure size 432x288 with 1 Axes>"
      ]
     },
     "metadata": {
      "needs_background": "light"
     },
     "output_type": "display_data"
    },
    {
     "data": {
      "image/png": "[encoded data removed]",
      "text/plain": [
       "<Figure size 432x288 with 1 Axes>"
      ]
     },
     "metadata": {
      "needs_background": "light"
     },
     "output_type": "display_data"
    }
   ],
   "source": [
    "x = np.linspace(0, 1, 50)\n",
    "D_real=[]\n",
    "D_interpol=[]\n",
    "I=[]\n",
    "W=[]\n",
    "for i in range(5,50):\n",
    "    xn, wn = special.roots_sh_legendre(i)\n",
    "    W.append(wn)\n",
    "    f_solve = np.linalg.solve(np.eye(i)-1/2*wn, np.sin(np.pi*xn))\n",
    "    f_interpol = CubicSpline(xn, f_solve)\n",
    "    f_real = lambda x: np.sin(np.pi*x)+2/np.pi\n",
    "    f_new = lambda x, f: np.sin(np.pi*x)+(wn @ f /2)\n",
    "    d_real = np.linalg.norm(f_new(x, f_solve) - f_real(x))\n",
    "    d_interpol =  np.linalg.norm(f_new(x, f_solve) - f_interpol(x))\n",
    "    print(\"N =\", i,'   Разница реального=', d_real,'   Разница интерполируемого=', d_interpol)\n",
    "    D_real.append(d_real)\n",
    "    D_interpol.append(d_interpol)\n",
    "    I.append(i)\n",
    "plt.plot(I,D_real, label=\"Зависимость значения разницы реального и нового от N\")\n",
    "plt.plot(I,D_interpol, label=\"Зависимость значения разницы интерполируемого и нового от N\")\n",
    "plt.yscale('log') \n",
    "plt.yscale('log')\n",
    "plt.legend()\n",
    "plt.show()\n",
    "plt.plot(x, f_new(x, f_solve), label='Новый')\n",
    "plt.plot(x, f_interpol(x), label='Интерполяция')\n",
    "plt.plot(x, f_real(x), 'o', label='Истинна')\n",
    "plt.legend()\n",
    "plt.show()"
   ]
  },
  {
   "cell_type": "markdown",
   "metadata": {},
   "source": [
    "Видно, что метод вычисления напрямую в непрерывной переменной x более точный чем метод c интерполяцией"
   ]
  }
 ],
 "metadata": {
  "kernelspec": {
   "display_name": "Python 3",
   "language": "python",
   "name": "python3"
  },
  "language_info": {
   "codemirror_mode": {
    "name": "ipython",
    "version": 3
   },
   "file_extension": ".py",
   "mimetype": "text/x-python",
   "name": "python",
   "nbconvert_exporter": "python",
   "pygments_lexer": "ipython3",
   "version": "3.7.1"
  }
 },
 "nbformat": 4,
 "nbformat_minor": 4
}
