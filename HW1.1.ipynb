{
 "cells": [
  {
   "cell_type": "markdown",
   "metadata": {},
   "source": [
    "## Solve a quadratic equation, $x^2 + b x + c = 0$.\n",
    "\n",
    "\n",
    "Write a function which receives $b$ and $c$, the coefficients of a monic quadratic polynomial, $x^2 + b x + c$, and returns the pair of its roots. Your function should always return two values, even if quadratic has a double root.\n",
    "\n",
    "For example, given a quadratic $x^2 - 2x + 1$, your function should return a pair of $(1, 1)$. Of course, in floating point, your answers may differ from an exact unity.\n",
    "\n",
    "Your function also must correctly handle complex roots (to this end, you might need the `cmath` module from the standard library)."
   ]
  },
  {
   "cell_type": "code",
   "execution_count": 43,
   "metadata": {},
   "outputs": [],
   "source": [
    "import cmath\n",
    "import math\n",
    "def solve_quad(b, c):\n",
    "    d=(b**2-4*c)**0.5\n",
    "    if abs(c/b)>=10e-9: #нет потери точности \n",
    "        x1 = (-b+d)/2\n",
    "        x2 = (-b-d)/2\n",
    "    if abs(c/b)<=10e-9: #точность теряется при рассчете обычным способом\n",
    "        if abs(-b-d) > abs(-b+d):\n",
    "            x2 = 2 * c / (-b - d) #переписанное выражение для x2=(-b + d)/2 путем домножения на (-b-d)\n",
    "            x1 = (-b - d)/2\n",
    "        else:\n",
    "            x1 = 2 * c / (-b + d) #переписанное выражение для x1=(-b - d)/2 путем домножения на (-b+d)\n",
    "            x2 = (-b + d) / 2\n",
    "    if d == 0:\n",
    "        x1== x1.real + x1.imag*1j\n",
    "    else:\n",
    "        x1== x1.real + x1.imag*1j\n",
    "        x2== x2.real + x2.imag*1j\n",
    "    return x1,x2"
   ]
  },
  {
   "cell_type": "markdown",
   "metadata": {},
   "source": [
    "Test the your function on several examples against a calculation by hand. Once you're sure that your function works, try these five test cases below. \n",
    "\n",
    "Note that the last two test cases are special: they test whether your function handles extreme cases where a too simple approach is prone to a catastrophic cancellation. Make sure your function passes all five tests.\n",
    "\n",
    "This exercise is graded, each test case contributes a 20% of the grade. "
   ]
  },
  {
   "cell_type": "code",
   "execution_count": 37,
   "metadata": {},
   "outputs": [],
   "source": [
    "from numpy import allclose"
   ]
  },
  {
   "cell_type": "code",
   "execution_count": 38,
   "metadata": {},
   "outputs": [],
   "source": [
    "variants = [{'b': 4.0, 'c': 3.0},\n",
    "            {'b': 2.0, 'c': 1.0},\n",
    "            {'b': 0.5, 'c': 4.0},\n",
    "            {'b': 1e10, 'c': 3.0},\n",
    "            {'b': -1e10, 'c': 4.0},]"
   ]
  },
  {
   "cell_type": "code",
   "execution_count": 46,
   "metadata": {},
   "outputs": [
    {
     "name": "stdout",
     "output_type": "stream",
     "text": [
      "True\n",
      "True\n",
      "True\n",
      "True\n",
      "True\n"
     ]
    }
   ],
   "source": [
    "for var in variants:\n",
    "    x1, x2 = solve_quad(**var)\n",
    "    print(allclose(x1*x2, var['c']))"
   ]
  },
  {
   "cell_type": "code",
   "execution_count": null,
   "metadata": {
    "collapsed": true
   },
   "outputs": [],
   "source": [
    "\"\"\"\n",
    "Примеры:\n",
    "1)b=4 c=3\n",
    "  Ответ:  x1=-1.0 x2=-3.0\n",
    "2)b=2 c=1\n",
    "  Ответ:  x=-1.0\n",
    "3)b=0.5 c=4\n",
    "  Ответ:  x1= (-0.2499999999999999+1.984313483298443j) x2=(-0.2500000000000001-1.984313483298443j)\n",
    "4)b=1e10 c=3\n",
    "  Ответ:  x1=-10000000000.0 x2=-3e-10\n",
    "5)b=-1e10 c=4\n",
    "  Ответ:  x2= 10000000000.0 x1=4e-10\n",
    "\"\"\""
   ]
  }
 ],
 "metadata": {
  "kernelspec": {
   "display_name": "Python 3",
   "language": "python",
   "name": "python3"
  }
 },
 "nbformat": 4,
 "nbformat_minor": 2
}
