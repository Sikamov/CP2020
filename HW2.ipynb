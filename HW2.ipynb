{
 "cells": [
  {
   "cell_type": "code",
   "execution_count": 662,
   "metadata": {},
   "outputs": [],
   "source": [
    "import numpy as np\n",
    "\n",
    "from numpy.testing import assert_allclose"
   ]
  },
  {
   "cell_type": "markdown",
   "metadata": {},
   "source": [
    "# Part I. Construct a Householder reflection of a vector."
   ]
  },
  {
   "cell_type": "markdown",
   "metadata": {},
   "source": [
    "Given a vector $\\mathbf{x}$, and a plane with a normal vector $\\mathbf{u}$, the Householder transformation reflects $\\mathbf{x}$ about the plane.\n",
    "\n",
    "The matrix of the Householder transformation is\n",
    "\n",
    "$$\n",
    "\\mathbf{H} = \\mathbf{1} - 2 \\mathbf{u} \\mathbf{u}^T\n",
    "$$\n",
    "\n",
    "Given two equal-length vectors $\\mathbf{x}$ and $\\mathbf{y}$, a rotation which brings $\\mathbf{x}$ to $\\mathbf{y}$ is a Householder transform with\n",
    "\n",
    "$$\n",
    "\\mathbf{u} = \\frac{\\mathbf{x} - \\mathbf{y}}{\\left|\\mathbf{x} - \\mathbf{y}\\right|}\n",
    "$$"
   ]
  },
  {
   "cell_type": "markdown",
   "metadata": {},
   "source": [
    "Write a function which rotates a given vector, $\\mathbf{x} = (x_1, \\dots, x_n)$ into $\\mathbf{y} = (\\left|\\mathbf{x}\\right|, 0, \\dots, 0)^T$ using a Householder transformation."
   ]
  },
  {
   "cell_type": "code",
   "execution_count": 663,
   "metadata": {},
   "outputs": [],
   "source": [
    "def householder(x):\n",
    "    \"\"\"Construct a Householder reflection to zero out 2nd and further components of a vector.\n",
    "\n",
    "    Parameters\n",
    "    ----------\n",
    "    vec : array-like of floats, shape (n,)\n",
    "        Input vector\n",
    "    \n",
    "    Returns\n",
    "    -------\n",
    "    outvec : array of floats, shape (n,)\n",
    "        Transformed vector, with ``outvec[1:]==0`` and ``|outvec| == |vec|``\n",
    "    H : array of floats, shape (n, n)\n",
    "        Orthogonal matrix of the Householder reflection\n",
    "    \"\"\"\n",
    "    x = np.asarray(x, dtype=float)\n",
    "    y = np.zeros(len(x))\n",
    "    y[0] = np.linalg.norm(x)\n",
    "    if x.ndim != 1:\n",
    "        raise ValueError(\"vec.ndim = %s, expected 1\" % x.ndim)\n",
    "    elif abs((y[0] - x[0]) / y[0]) < 1e-10 and x[0] > 0:  #если близки друг к другу \n",
    "        u = np.asarray(x, dtype=float) \n",
    "        u[0] = (x[0]**2 - y[0]**2) / (x[0] + y[0]) \n",
    "        u = u / np.linalg.norm(u)\n",
    "    else:\n",
    "        u = (x-y) / np.linalg.norm(x-y)\n",
    "    H = np.eye(len(x))-2*np.outer(u,u)\n",
    "    return y, H"
   ]
  },
  {
   "cell_type": "markdown",
   "metadata": {},
   "source": [
    "Test your function using tests below:"
   ]
  },
  {
   "cell_type": "code",
   "execution_count": 664,
   "metadata": {
    "scrolled": true
   },
   "outputs": [],
   "source": [
    "# Test I.1 (10% of the total grade).\n",
    "\n",
    "v = np.array([1,2,3])\n",
    "v1, h = householder(v)\n",
    "\n",
    "assert_allclose(np.dot(h, v1), v, atol=1e-10)\n",
    "assert_allclose(np.dot(h, v), v1, atol=1e-10)"
   ]
  },
  {
   "cell_type": "code",
   "execution_count": 665,
   "metadata": {},
   "outputs": [],
   "source": [
    "# Test I.2 (10% of the total grade).\n",
    "\n",
    "rndm = np.random.RandomState(1234)\n",
    "\n",
    "vec = rndm.uniform(size=7)\n",
    "v1, h = householder(vec)\n",
    "assert_allclose(np.dot(h, v1), vec, atol=1e-10)"
   ]
  },
  {
   "cell_type": "markdown",
   "metadata": {},
   "source": [
    "# Part II. Compute the $\\mathrm{QR}$ decomposition of a matrix.\n",
    "\n",
    "Given a rectangular $m\\times n$ matrix $\\mathbf{A}$, construct a Householder reflector matrix $\\mathbf{H}_1$ which transforms the first column of $\\mathbf{A}$ (and call the result $\\mathbf{A}^{(1)}$)\n",
    "\n",
    "$$\n",
    "\\mathbf{H}_1 \\mathbf{A} =%\n",
    "\\begin{pmatrix}\n",
    "\\times & \\times & \\times & \\dots & \\times \\\\\n",
    "0      & \\times & \\times & \\dots & \\times \\\\\n",
    "0      & \\times & \\times & \\dots & \\times \\\\\n",
    "&& \\dots&& \\\\\n",
    "0      & \\times & \\times & \\dots & \\times \\\\\n",
    "\\end{pmatrix}%\n",
    "\\equiv \\mathbf{A}^{(1)}\\;.\n",
    "$$\n",
    "\n",
    "Now consider the lower-right submatrix of $\\mathbf{A}^{(1)}$, and construct a Householder reflector which annihilates the second column of $\\mathbf{A}$:\n",
    "\n",
    "$$\n",
    "\\mathbf{H}_2 \\mathbf{A}^{(1)} =%\n",
    "\\begin{pmatrix}\n",
    "\\times & \\times & \\times & \\dots & \\times \\\\\n",
    "0      & \\times & \\times & \\dots & \\times \\\\\n",
    "0      & 0      & \\times & \\dots & \\times \\\\\n",
    "&& \\dots&& \\\\\n",
    "0      & 0      & \\times & \\dots & \\times \\\\\n",
    "\\end{pmatrix}%\n",
    "\\equiv \\mathbf{A}^{(2)} \\;.\n",
    "$$\n",
    "\n",
    "Repeating the process $n-1$ times, we obtain\n",
    "\n",
    "$$\n",
    "\\mathbf{H}_{n-1} \\cdots \\mathbf{H}_2 \\mathbf{H}_1 \\mathbf{A} = \\mathbf{R} \\;,\n",
    "$$\n",
    "\n",
    "with $\\mathbf{R}$ an upper triangular matrix. Since each $\\mathbf{H}_k$ is orthogonal, so is their product. The inverse of an orthogonal matrix is orthogonal. Hence the process generates the $\\mathrm{QR}$ decomposition of $\\mathbf{A}$. "
   ]
  },
  {
   "cell_type": "markdown",
   "metadata": {},
   "source": [
    "Write a function, which receives a recangular matrix, $A$, and returns the Q and R factors of the $QR$ factorization of $A$."
   ]
  },
  {
   "cell_type": "code",
   "execution_count": 666,
   "metadata": {},
   "outputs": [],
   "source": [
    "def qr_decomp(A):\n",
    "    \"\"\"Compute the QR decomposition of a matrix.\n",
    "    \n",
    "    Parameters\n",
    "    ----------\n",
    "    a : ndarray, shape(m, n)\n",
    "        The input matrix\n",
    "    \n",
    "    Returns\n",
    "    -------\n",
    "    q : ndarray, shape(m, m)\n",
    "        The orthogonal matrix\n",
    "    r : ndarray, shape(m, n)\n",
    "        The upper triangular matrix\n",
    "        \n",
    "    Examples\n",
    "    --------\n",
    "    >>> a = np.random.random(size=(3, 5))\n",
    "    >>> q, r = qr_decomp(a)\n",
    "    >>> np.assert_allclose(np.dot(q, r), a)\n",
    "    \n",
    "    \"\"\"\n",
    "    m, n = A.shape\n",
    "    R = np.array(A, copy=True, dtype=float)\n",
    "    x = A[0:,0]\n",
    "    y, H = householder(x)\n",
    "    R = H @ R\n",
    "    Q = H.T\n",
    "    for i in range(1, min(m-1,n)):\n",
    "        Qi = np.eye(m)\n",
    "        Ri = R[i:,i:]\n",
    "        x = Ri[0:, 0]\n",
    "        y, H = householder(x)\n",
    "        Qi[i:,i:] = H\n",
    "        Ri = H @ Ri\n",
    "        Q = Q @ Qi.T\n",
    "        R[i:,i:] = Ri\n",
    "    return R, Q"
   ]
  },
  {
   "cell_type": "markdown",
   "metadata": {},
   "source": [
    "Мой тест"
   ]
  },
  {
   "cell_type": "code",
   "execution_count": 667,
   "metadata": {},
   "outputs": [
    {
     "name": "stdout",
     "output_type": "stream",
     "text": [
      "A=  [[-1  2  3]\n",
      " [ 1  5 -3]\n",
      " [ 1  2 -7]\n",
      " [ 1  6 -3]]\n",
      "R =  \n",
      " [[ 2.          5.5        -8.        ]\n",
      " [-0.          6.2249498   0.4819316 ]\n",
      " [-0.         -0.          3.43041425]\n",
      " [-0.          0.         -0.        ]] \n",
      " Q =  \n",
      " [[-0.5         0.76305836 -0.39871043  0.09365858]\n",
      " [ 0.5         0.3614487   0.24073082  0.74926865]\n",
      " [ 0.5        -0.1204829  -0.85760356  0.        ]\n",
      " [ 0.5         0.52209256  0.21816231 -0.65561007]] \n",
      " QR =  \n",
      " [[-1.  2.  3.]\n",
      " [ 1.  5. -3.]\n",
      " [ 1.  2. -7.]\n",
      " [ 1.  6. -3.]]\n"
     ]
    }
   ],
   "source": [
    "A = np.array([[-1, 2, 3],[1, 5, -3],[1,2, -7],[1, 6, -3]])\n",
    "print('A= ', A)\n",
    "print(\"R = \",\"\\n\",qr_decomp(A)[0],\"\\n\",\"Q = \",\"\\n\", qr_decomp(A)[1], \"\\n\",\"QR = \",\"\\n\", qr_decomp(A)[1]@qr_decomp(A)[0])"
   ]
  },
  {
   "cell_type": "markdown",
   "metadata": {},
   "source": [
    "Видно, что разложение работает"
   ]
  },
  {
   "cell_type": "code",
   "execution_count": 668,
   "metadata": {},
   "outputs": [],
   "source": [
    "# Might want to turn this on for prettier printing: zeros instead of `1e-16` etc\n",
    "\n",
    "np.set_printoptions(suppress=True)"
   ]
  },
  {
   "cell_type": "code",
   "execution_count": 669,
   "metadata": {},
   "outputs": [],
   "source": [
    "# Test II.1 (20% of the total grade)\n",
    "\n",
    "rndm = np.random.RandomState(1234)\n",
    "a = rndm.uniform(size=(5, 3))\n",
    "r, q = qr_decomp(a)\n",
    "\n",
    "# test that Q is indeed orthogonal\n",
    "assert_allclose(np.dot(q, q.T), np.eye(5), atol=1e-10)\n",
    "\n",
    "# test the decomposition itself\n",
    "assert_allclose(np.dot(q, r), a)"
   ]
  },
  {
   "cell_type": "markdown",
   "metadata": {},
   "source": [
    "Now compare your decompositions to the library function (which actually wraps the corresponding LAPACK functions)"
   ]
  },
  {
   "cell_type": "markdown",
   "metadata": {},
   "source": [
    "Check if your `q` and `r` agree with `qq` and `rr`. Explain."
   ]
  },
  {
   "cell_type": "code",
   "execution_count": 670,
   "metadata": {},
   "outputs": [
    {
     "name": "stdout",
     "output_type": "stream",
     "text": [
      "q =  \n",
      " [[ 0.13665049  0.53601299 -0.09369752  0.7697136   0.30459557]\n",
      " [ 0.56035895  0.0935397  -0.53326881  0.01839528 -0.62652547]\n",
      " [ 0.19725922  0.65948912  0.60068463 -0.32384673 -0.24589462]\n",
      " [ 0.62498418 -0.50418303  0.52144688  0.28453698  0.04822969]\n",
      " [ 0.48765568  0.12171264 -0.27224305 -0.47049398  0.67223293]] \n",
      " qq =  \n",
      " [[-0.13665049  0.53601299  0.09369752  0.661619   -0.49749149]\n",
      " [-0.56035895  0.0935397   0.53326881 -0.52477245 -0.34276292]\n",
      " [-0.19725922  0.65948912 -0.60068463 -0.37879015  0.14784752]\n",
      " [-0.62498418 -0.50418303 -0.52144688  0.18967657 -0.21750907]\n",
      " [-0.48765568  0.12171264  0.27224305  0.32774225  0.75222783]] \n",
      " r =  \n",
      " [[ 1.40152769  1.2514379   0.89523615]\n",
      " [ 0.          0.84158252  0.68447942]\n",
      " [ 0.          0.          0.5496046 ]\n",
      " [ 0.          0.         -0.        ]\n",
      " [ 0.          0.          0.        ]] \n",
      " rr =  \n",
      " [[-1.40152769 -1.2514379  -0.89523615]\n",
      " [ 0.          0.84158252  0.68447942]\n",
      " [ 0.          0.         -0.5496046 ]\n",
      " [ 0.          0.          0.        ]\n",
      " [ 0.          0.          0.        ]] \n",
      " aa =  \n",
      " [[0.19151945 0.62210877 0.43772774]\n",
      " [0.78535858 0.77997581 0.27259261]\n",
      " [0.27646426 0.80187218 0.95813935]\n",
      " [0.87593263 0.35781727 0.50099513]\n",
      " [0.68346294 0.71270203 0.37025075]] \n",
      " a =  \n",
      " [[0.19151945 0.62210877 0.43772774]\n",
      " [0.78535858 0.77997581 0.27259261]\n",
      " [0.27646426 0.80187218 0.95813935]\n",
      " [0.87593263 0.35781727 0.50099513]\n",
      " [0.68346294 0.71270203 0.37025075]]\n"
     ]
    }
   ],
   "source": [
    "from scipy.linalg import qr\n",
    "qq, rr = qr(a)\n",
    "\n",
    "assert_allclose(np.dot(qq, rr), a)\n",
    "print(\"q = \",\"\\n\",q,\"\\n\",\"qq = \",\"\\n\", qq,\"\\n\", \"r = \",\"\\n\", r,\"\\n\", \"rr = \",\"\\n\", rr,\"\\n\", \"aa = \",\"\\n\",qq @ rr,\"\\n\",\"a = \",\"\\n\",q @ r)"
   ]
  },
  {
   "cell_type": "markdown",
   "metadata": {},
   "source": [
    "*Enter your explanation here* (10% of the total grade, peer-graded)"
   ]
  },
  {
   "cell_type": "markdown",
   "metadata": {},
   "source": [
    "Видно, что q, r и qq, rr не совпадают по\n",
    "а) двум последним столбцам для q и qq, что связано с тем, что две последних строки у r и rr равны нулю следовательно здесь проявляется многозначность\n",
    "б) знакам некоторых элементов, что может быть объяснено выбором базисного вектора, по которому происходит разложение"
   ]
  },
  {
   "cell_type": "markdown",
   "metadata": {},
   "source": [
    "# Part III. Avoid forming Householder matrices explicitly."
   ]
  },
  {
   "cell_type": "markdown",
   "metadata": {},
   "source": [
    "Note the special structure of the Householder matrices: A reflector $\\mathbf{H}$ is completely specified by a reflection vector $\\mathbf{u}$. Also note that the computational cost of applying a reflector to a matrix strongly depends on the order of operations:\n",
    "\n",
    "$$\n",
    "\\left( \\mathbf{u} \\mathbf{u}^T \\right) \\mathbf{A}  \\qquad \\textrm{is } O(m^2 n)\\;,\n",
    "$$\n",
    "while\n",
    "$$\n",
    "\\mathbf{u} \\left( \\mathbf{u}^T \\mathbf{A} \\right) \\qquad \\textrm{is } O(mn)\n",
    "$$\n",
    "\n",
    "Thus, it seems to make sense to *avoid* forming the $\\mathbf{H}$ matrices. Instead, one stores the reflection vectors, $\\mathbf{u}$, themselves, and provides a way of multiplying an arbitrary matrix by $\\mathbf{Q}^T$, e.g., as a standalone function (or a class)."
   ]
  },
  {
   "cell_type": "markdown",
   "metadata": {},
   "source": [
    "Write a function which constructs the `QR` decomposition of a matrix *without ever forming the* $\\mathbf{H}$ matrices, and returns the $\\mathbf{R}$ matrix and reflection vectors. \n",
    "\n",
    "Write a second function, which uses reflection vectors to multiply a matrix with $\\mathbf{Q}^T$. Make sure to include enough comments for a marker to follow your implementation, and add tests. \n",
    "\n",
    "(Peer-graded, 40% of the total grade)"
   ]
  },
  {
   "cell_type": "markdown",
   "metadata": {},
   "source": [
    "Функции работает аналогично part II (идея та же самая)"
   ]
  },
  {
   "cell_type": "code",
   "execution_count": 671,
   "metadata": {},
   "outputs": [],
   "source": [
    "def householder_u(x): #создает вектор \n",
    "    x = np.asarray(x, dtype=float)\n",
    "    if x.ndim != 1:\n",
    "        raise ValueError(\"x.ndim = %s, expected 1\" % x.ndim)\n",
    "    else:\n",
    "        y = np.zeros(len(x))\n",
    "        y[0] = np.linalg.norm(x)\n",
    "        u = (x-y) / np.linalg.norm(x-y)\n",
    "        u = np.reshape(u, (len(u),1)) #именно столбец\n",
    "        return y, u"
   ]
  },
  {
   "cell_type": "code",
   "execution_count": 682,
   "metadata": {},
   "outputs": [],
   "source": [
    "def qr_decomp_u(A): #первая функция \n",
    "    m, n = A.shape\n",
    "    U=np.eye(m)\n",
    "    R = np.array(A, copy=True, dtype=float)\n",
    "    Ru = np.array(A, copy=True, dtype=float)\n",
    "    x = A[0:,0]\n",
    "    y, u = householder_u(x)\n",
    "    uT=np.reshape(u, (1,len(u)))\n",
    "    Ru = u.T @ Ru\n",
    "    Ru = 2*u @ Ru\n",
    "    R = R - Ru #умножение на матрицу H\n",
    "    U[0:,0] = uT #хранит векторы u\n",
    "    for i in range(1,min(m-1,n)):\n",
    "        Ri = R[i:,i:]\n",
    "        Riu = R[i:,i:]\n",
    "        x = Ri[0:, 0]\n",
    "        y, u = householder_u(x)\n",
    "        uT=np.reshape(u, (1,len(u))) #строка\n",
    "        Riu = uT @ Riu\n",
    "        Riu = 2*u @ Riu\n",
    "        Ri = Ri - Riu\n",
    "        U[i:,i]=uT \n",
    "        R[i:,i:] = Ri\n",
    "    return R, U"
   ]
  },
  {
   "cell_type": "code",
   "execution_count": 683,
   "metadata": {},
   "outputs": [],
   "source": [
    "def qr_decomp_q(U,A): #вторая функция\n",
    "    m, n = A.shape\n",
    "    R = np.array(A, copy=True, dtype=float)\n",
    "    Ru = np.array(A, copy=True, dtype=float)\n",
    "    uT=U[0:,0]\n",
    "    u=np.reshape(uT, (len(uT),1))\n",
    "    Ru = u.T @ Ru\n",
    "    Ru = 2*u @ Ru\n",
    "    R = R - Ru #умножение на H \n",
    "    U[0:,0] = uT\n",
    "    for i in range(1,min(m-1,n)): #запускаем аналогичного рода итерации\n",
    "        Ri = R[i:,i:]\n",
    "        Riu = R[i:,i:]\n",
    "        uT=U[i:,i]   #вытаскиваю u\n",
    "        u=np.reshape(uT, (len(uT),1))  #столбец\n",
    "        uT=np.reshape(u, (1,len(uT))) #строка\n",
    "        Riu = uT @ Riu\n",
    "        Riu = 2*u @ Riu\n",
    "        Ri = Ri - Riu\n",
    "        U[i:,i]=uT\n",
    "        R[i:,i:] = Ri\n",
    "    return R"
   ]
  },
  {
   "cell_type": "markdown",
   "metadata": {},
   "source": [
    "Тесты"
   ]
  },
  {
   "cell_type": "code",
   "execution_count": 684,
   "metadata": {},
   "outputs": [
    {
     "name": "stdout",
     "output_type": "stream",
     "text": [
      "A=  [[-1  2  3]\n",
      " [ 1  5 -3]\n",
      " [ 4  2  3]\n",
      " [ 7  2  3]]\n",
      "R =  \n",
      " [[ 8.18535277  3.05423611  3.298575  ]\n",
      " [ 0.          5.26038419 -1.34488787]\n",
      " [ 0.          0.          4.82811346]\n",
      " [ 0.          0.          0.        ]] \n",
      " U  =  \n",
      " [[-0.74905589  0.          0.          0.        ]\n",
      " [ 0.08154895 -0.18883533  0.          0.        ]\n",
      " [ 0.32619581  0.7756134  -0.95949279  0.        ]\n",
      " [ 0.57084266  0.60229982 -0.2817332   1.        ]] \n",
      " U содержит в себе набор векторов u 1-предпоследжний столбцы начало которых соответсвуют диагональным элементам (без последнего) \n",
      "\n"
     ]
    }
   ],
   "source": [
    "A = np.array([[-1, 2, 3],[1, 5, -3],[4, 2, 3],[7, 2, 3]])\n",
    "print('A= ', A)\n",
    "print(\"R = \",\"\\n\",qr_decomp_u(A)[0],\"\\n\",\"U  = \",\"\\n\",qr_decomp_u(A)[1],\"\\n\",\"U содержит в себе набор векторов u 1-предпоследжний столбцы начало которых соответсвуют диагональным элементам (без последнего)\",\"\\n\")"
   ]
  },
  {
   "cell_type": "code",
   "execution_count": 675,
   "metadata": {},
   "outputs": [
    {
     "name": "stdout",
     "output_type": "stream",
     "text": [
      "A =  \n",
      " [[-1  2  3]\n",
      " [ 1  5 -3]\n",
      " [ 4  2  3]\n",
      " [ 7  2  3]]\n",
      "U =  \n",
      " [[-0.74905589  0.          0.          0.        ]\n",
      " [ 0.08154895 -0.18883533  0.          0.        ]\n",
      " [ 0.32619581  0.7756134  -0.95949279  0.        ]\n",
      " [ 0.57084266  0.60229982 -0.2817332   1.        ]]\n",
      "R из первой функции =  \n",
      " [[ 8.18535277  3.05423611  3.298575  ]\n",
      " [ 0.          5.26038419 -1.34488787]\n",
      " [ 0.          0.          4.82811346]\n",
      " [ 0.          0.          0.        ]]\n",
      "R из второй функции =  \n",
      " [[ 8.18535277  3.05423611  3.298575  ]\n",
      " [ 0.          5.26038419 -1.34488787]\n",
      " [ 0.          0.          4.82811346]\n",
      " [ 0.          0.          0.        ]]\n"
     ]
    }
   ],
   "source": [
    "R, U = qr_decomp_u(A)\n",
    "print(\"A = \",\"\\n\",A)\n",
    "print(\"U = \",\"\\n\",U)\n",
    "print(\"R из первой функции = \",\"\\n\",R)\n",
    "print(\"R из второй функции = \",\"\\n\",qr_decomp_q(U, A))"
   ]
  },
  {
   "cell_type": "code",
   "execution_count": 676,
   "metadata": {},
   "outputs": [
    {
     "name": "stdout",
     "output_type": "stream",
     "text": [
      "A=  [[-1  2  3]\n",
      " [ 1  5 -3]\n",
      " [-6  7 -2]]\n",
      "R =  \n",
      " [[ 6.164414   -6.32663542  0.97332853]\n",
      " [-0.          6.16227914 -2.73309678]\n",
      " [ 0.         -0.          3.68548689]] \n",
      " U  =  \n",
      " [[-0.76230618  0.          0.        ]\n",
      " [ 0.10640175 -0.0021641   0.        ]\n",
      " [-0.63841049  0.99999766  1.        ]] \n",
      " U содержит в себе набор векторов u 1-предпоследжний столбцы начало которых соответсвуют диагональным элементам (без последнего) \n",
      "\n"
     ]
    }
   ],
   "source": [
    "A = np.array([[-1, 2, 3],[1, 5, -3],[-6, 7, -2]])\n",
    "print('A= ', A)\n",
    "print(\"R = \",\"\\n\",qr_decomp_u(A)[0],\"\\n\",\"U  = \",\"\\n\",qr_decomp_u(A)[1],\"\\n\",\"U содержит в себе набор векторов u 1-предпоследжний столбцы начало которых соответсвуют диагональным элементам (без последнего)\",\"\\n\")"
   ]
  },
  {
   "cell_type": "code",
   "execution_count": 677,
   "metadata": {},
   "outputs": [
    {
     "name": "stdout",
     "output_type": "stream",
     "text": [
      "A =  \n",
      " [[-1  2  3]\n",
      " [ 1  5 -3]\n",
      " [-6  7 -2]]\n",
      "U =  \n",
      " [[-0.76230618  0.          0.        ]\n",
      " [ 0.10640175 -0.0021641   0.        ]\n",
      " [-0.63841049  0.99999766  1.        ]]\n",
      "R из первой функции =  \n",
      " [[ 6.164414   -6.32663542  0.97332853]\n",
      " [-0.          6.16227914 -2.73309678]\n",
      " [ 0.         -0.          3.68548689]]\n",
      "R из второй функции =  \n",
      " [[ 6.164414   -6.32663542  0.97332853]\n",
      " [-0.          6.16227914 -2.73309678]\n",
      " [ 0.         -0.          3.68548689]]\n"
     ]
    }
   ],
   "source": [
    "R, U = qr_decomp_u(A)\n",
    "print(\"A = \",\"\\n\",A)\n",
    "print(\"U = \",\"\\n\",U)\n",
    "print(\"R из первой функции = \",\"\\n\",R)\n",
    "print(\"R из второй функции = \",\"\\n\",qr_decomp_q(U, A))"
   ]
  },
  {
   "cell_type": "code",
   "execution_count": 678,
   "metadata": {},
   "outputs": [
    {
     "name": "stdout",
     "output_type": "stream",
     "text": [
      "A=  [[-1  2  3]\n",
      " [ 1  5 -3]]\n",
      "R =  \n",
      " [[ 1.41421356  2.12132034 -4.24264069]\n",
      " [ 0.          4.94974747  0.        ]] \n",
      " U  =  \n",
      " [[-0.92387953  0.        ]\n",
      " [ 0.38268343  1.        ]] \n",
      " U содержит в себе набор векторов u 1-предпоследжний столбцы начало которых соответсвуют диагональным элементам (без последнего) \n",
      "\n"
     ]
    }
   ],
   "source": [
    "A = np.array([[-1, 2, 3],[1, 5, -3]])\n",
    "print('A= ', A)\n",
    "print(\"R = \",\"\\n\",qr_decomp_u(A)[0],\"\\n\",\"U  = \",\"\\n\",qr_decomp_u(A)[1],\"\\n\",\"U содержит в себе набор векторов u 1-предпоследжний столбцы начало которых соответсвуют диагональным элементам (без последнего)\",\"\\n\")"
   ]
  },
  {
   "cell_type": "code",
   "execution_count": 679,
   "metadata": {},
   "outputs": [
    {
     "name": "stdout",
     "output_type": "stream",
     "text": [
      "A =  \n",
      " [[-1  2  3]\n",
      " [ 1  5 -3]]\n",
      "U =  \n",
      " [[-0.92387953  0.        ]\n",
      " [ 0.38268343  1.        ]]\n",
      "R из первой функции =  \n",
      " [[ 1.41421356  2.12132034 -4.24264069]\n",
      " [ 0.          4.94974747  0.        ]]\n",
      "R из второй функции =  \n",
      " [[ 1.41421356  2.12132034 -4.24264069]\n",
      " [ 0.          4.94974747  0.        ]]\n"
     ]
    }
   ],
   "source": [
    "R, U = qr_decomp_u(A)\n",
    "print(\"A = \",\"\\n\",A)\n",
    "print(\"U = \",\"\\n\",U)\n",
    "print(\"R из первой функции = \",\"\\n\",R)\n",
    "print(\"R из второй функции = \",\"\\n\",qr_decomp_q(U, A))"
   ]
  },
  {
   "cell_type": "markdown",
   "metadata": {},
   "source": [
    "Видно что функции выдают одинаковые R"
   ]
  }
 ],
 "metadata": {
  "kernelspec": {
   "display_name": "Python 3",
   "language": "python",
   "name": "python3"
  },
  "language_info": {
   "codemirror_mode": {
    "name": "ipython",
    "version": 3
   },
   "file_extension": ".py",
   "mimetype": "text/x-python",
   "name": "python",
   "nbconvert_exporter": "python",
   "pygments_lexer": "ipython3",
   "version": "3.7.1"
  }
 },
 "nbformat": 4,
 "nbformat_minor": 2
}
